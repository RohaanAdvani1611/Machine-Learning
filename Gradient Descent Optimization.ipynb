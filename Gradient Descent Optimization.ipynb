{
  "cells": [
    {
      "cell_type": "markdown",
      "source": [
        "# Rohaan Advani - N19682109 - rna3535"
      ],
      "metadata": {
        "id": "vFFVmmzo4rmk"
      }
    },
    {
      "cell_type": "markdown",
      "metadata": {
        "id": "zApLHSM2ZGPO"
      },
      "source": [
        "# Gradient Descent Optimization\n",
        "\n",
        "In ``demo_breast_cancer.ipynb``, we used the `sklearn` built-in `LogisticRegression` class to find the weights for the logistic regression problem.   The `fit` routine in that class has an *optimizer* to select the weights to best match the data.  To understand how that optimizer works, in this demo, we will build a very simple gradient descent optimizer from scratch.  You practice:\n",
        "* Computing the gradients of a loss function and implementing the gradient calculations in Python\n",
        "* Implement a simple gradient descent optimizer\n",
        "* Visualize the effect of the learning rate in gradient descent\n",
        "* Implement an adaptive learning rate algorithm\n",
        "* Add regularization to the loss minimization problem\n",
        "* Try out different black-box optimizers in Python"
      ]
    },
    {
      "cell_type": "markdown",
      "metadata": {
        "id": "CGZeQUE4ZGPQ"
      },
      "source": [
        "## Loading the Breast Cancer Data\n",
        "\n",
        "We first load the standard packages."
      ]
    },
    {
      "cell_type": "code",
      "execution_count": 1,
      "metadata": {
        "id": "tucthocjZGPR"
      },
      "outputs": [],
      "source": [
        "import numpy as np\n",
        "import matplotlib.pyplot as plt\n",
        "import pandas as pd\n",
        "%matplotlib inline\n",
        "from sklearn import preprocessing"
      ]
    },
    {
      "cell_type": "markdown",
      "metadata": {
        "id": "JseGFNPNZGPR"
      },
      "source": [
        "We next load the data from the breast cancer demo.  "
      ]
    },
    {
      "cell_type": "code",
      "execution_count": 2,
      "metadata": {
        "id": "hdvK-usLZGPR",
        "outputId": "2fbd2612-9a91-4a24-9ed5-c24b6a3a238f",
        "colab": {
          "base_uri": "https://localhost:8080/",
          "height": 204
        }
      },
      "outputs": [
        {
          "output_type": "execute_result",
          "data": {
            "text/plain": [
              "        id  thick  size_unif  shape_unif  marg  cell_size  bare  chrom  \\\n",
              "0  1000025      5          1           1     1          2   1.0      3   \n",
              "1  1002945      5          4           4     5          7  10.0      3   \n",
              "2  1015425      3          1           1     1          2   2.0      3   \n",
              "3  1016277      6          8           8     1          3   4.0      3   \n",
              "4  1017023      4          1           1     3          2   1.0      3   \n",
              "\n",
              "   normal  mit  class  \n",
              "0       1    1      2  \n",
              "1       2    1      2  \n",
              "2       1    1      2  \n",
              "3       7    1      2  \n",
              "4       1    1      2  "
            ],
            "text/html": [
              "\n",
              "  <div id=\"df-a4a1f1b0-a500-49f1-8365-7221bb26f543\" class=\"colab-df-container\">\n",
              "    <div>\n",
              "<style scoped>\n",
              "    .dataframe tbody tr th:only-of-type {\n",
              "        vertical-align: middle;\n",
              "    }\n",
              "\n",
              "    .dataframe tbody tr th {\n",
              "        vertical-align: top;\n",
              "    }\n",
              "\n",
              "    .dataframe thead th {\n",
              "        text-align: right;\n",
              "    }\n",
              "</style>\n",
              "<table border=\"1\" class=\"dataframe\">\n",
              "  <thead>\n",
              "    <tr style=\"text-align: right;\">\n",
              "      <th></th>\n",
              "      <th>id</th>\n",
              "      <th>thick</th>\n",
              "      <th>size_unif</th>\n",
              "      <th>shape_unif</th>\n",
              "      <th>marg</th>\n",
              "      <th>cell_size</th>\n",
              "      <th>bare</th>\n",
              "      <th>chrom</th>\n",
              "      <th>normal</th>\n",
              "      <th>mit</th>\n",
              "      <th>class</th>\n",
              "    </tr>\n",
              "  </thead>\n",
              "  <tbody>\n",
              "    <tr>\n",
              "      <th>0</th>\n",
              "      <td>1000025</td>\n",
              "      <td>5</td>\n",
              "      <td>1</td>\n",
              "      <td>1</td>\n",
              "      <td>1</td>\n",
              "      <td>2</td>\n",
              "      <td>1.0</td>\n",
              "      <td>3</td>\n",
              "      <td>1</td>\n",
              "      <td>1</td>\n",
              "      <td>2</td>\n",
              "    </tr>\n",
              "    <tr>\n",
              "      <th>1</th>\n",
              "      <td>1002945</td>\n",
              "      <td>5</td>\n",
              "      <td>4</td>\n",
              "      <td>4</td>\n",
              "      <td>5</td>\n",
              "      <td>7</td>\n",
              "      <td>10.0</td>\n",
              "      <td>3</td>\n",
              "      <td>2</td>\n",
              "      <td>1</td>\n",
              "      <td>2</td>\n",
              "    </tr>\n",
              "    <tr>\n",
              "      <th>2</th>\n",
              "      <td>1015425</td>\n",
              "      <td>3</td>\n",
              "      <td>1</td>\n",
              "      <td>1</td>\n",
              "      <td>1</td>\n",
              "      <td>2</td>\n",
              "      <td>2.0</td>\n",
              "      <td>3</td>\n",
              "      <td>1</td>\n",
              "      <td>1</td>\n",
              "      <td>2</td>\n",
              "    </tr>\n",
              "    <tr>\n",
              "      <th>3</th>\n",
              "      <td>1016277</td>\n",
              "      <td>6</td>\n",
              "      <td>8</td>\n",
              "      <td>8</td>\n",
              "      <td>1</td>\n",
              "      <td>3</td>\n",
              "      <td>4.0</td>\n",
              "      <td>3</td>\n",
              "      <td>7</td>\n",
              "      <td>1</td>\n",
              "      <td>2</td>\n",
              "    </tr>\n",
              "    <tr>\n",
              "      <th>4</th>\n",
              "      <td>1017023</td>\n",
              "      <td>4</td>\n",
              "      <td>1</td>\n",
              "      <td>1</td>\n",
              "      <td>3</td>\n",
              "      <td>2</td>\n",
              "      <td>1.0</td>\n",
              "      <td>3</td>\n",
              "      <td>1</td>\n",
              "      <td>1</td>\n",
              "      <td>2</td>\n",
              "    </tr>\n",
              "  </tbody>\n",
              "</table>\n",
              "</div>\n",
              "    <div class=\"colab-df-buttons\">\n",
              "\n",
              "  <div class=\"colab-df-container\">\n",
              "    <button class=\"colab-df-convert\" onclick=\"convertToInteractive('df-a4a1f1b0-a500-49f1-8365-7221bb26f543')\"\n",
              "            title=\"Convert this dataframe to an interactive table.\"\n",
              "            style=\"display:none;\">\n",
              "\n",
              "  <svg xmlns=\"http://www.w3.org/2000/svg\" height=\"24px\" viewBox=\"0 -960 960 960\">\n",
              "    <path d=\"M120-120v-720h720v720H120Zm60-500h600v-160H180v160Zm220 220h160v-160H400v160Zm0 220h160v-160H400v160ZM180-400h160v-160H180v160Zm440 0h160v-160H620v160ZM180-180h160v-160H180v160Zm440 0h160v-160H620v160Z\"/>\n",
              "  </svg>\n",
              "    </button>\n",
              "\n",
              "  <style>\n",
              "    .colab-df-container {\n",
              "      display:flex;\n",
              "      gap: 12px;\n",
              "    }\n",
              "\n",
              "    .colab-df-convert {\n",
              "      background-color: #E8F0FE;\n",
              "      border: none;\n",
              "      border-radius: 50%;\n",
              "      cursor: pointer;\n",
              "      display: none;\n",
              "      fill: #1967D2;\n",
              "      height: 32px;\n",
              "      padding: 0 0 0 0;\n",
              "      width: 32px;\n",
              "    }\n",
              "\n",
              "    .colab-df-convert:hover {\n",
              "      background-color: #E2EBFA;\n",
              "      box-shadow: 0px 1px 2px rgba(60, 64, 67, 0.3), 0px 1px 3px 1px rgba(60, 64, 67, 0.15);\n",
              "      fill: #174EA6;\n",
              "    }\n",
              "\n",
              "    .colab-df-buttons div {\n",
              "      margin-bottom: 4px;\n",
              "    }\n",
              "\n",
              "    [theme=dark] .colab-df-convert {\n",
              "      background-color: #3B4455;\n",
              "      fill: #D2E3FC;\n",
              "    }\n",
              "\n",
              "    [theme=dark] .colab-df-convert:hover {\n",
              "      background-color: #434B5C;\n",
              "      box-shadow: 0px 1px 3px 1px rgba(0, 0, 0, 0.15);\n",
              "      filter: drop-shadow(0px 1px 2px rgba(0, 0, 0, 0.3));\n",
              "      fill: #FFFFFF;\n",
              "    }\n",
              "  </style>\n",
              "\n",
              "    <script>\n",
              "      const buttonEl =\n",
              "        document.querySelector('#df-a4a1f1b0-a500-49f1-8365-7221bb26f543 button.colab-df-convert');\n",
              "      buttonEl.style.display =\n",
              "        google.colab.kernel.accessAllowed ? 'block' : 'none';\n",
              "\n",
              "      async function convertToInteractive(key) {\n",
              "        const element = document.querySelector('#df-a4a1f1b0-a500-49f1-8365-7221bb26f543');\n",
              "        const dataTable =\n",
              "          await google.colab.kernel.invokeFunction('convertToInteractive',\n",
              "                                                    [key], {});\n",
              "        if (!dataTable) return;\n",
              "\n",
              "        const docLinkHtml = 'Like what you see? Visit the ' +\n",
              "          '<a target=\"_blank\" href=https://colab.research.google.com/notebooks/data_table.ipynb>data table notebook</a>'\n",
              "          + ' to learn more about interactive tables.';\n",
              "        element.innerHTML = '';\n",
              "        dataTable['output_type'] = 'display_data';\n",
              "        await google.colab.output.renderOutput(dataTable, element);\n",
              "        const docLink = document.createElement('div');\n",
              "        docLink.innerHTML = docLinkHtml;\n",
              "        element.appendChild(docLink);\n",
              "      }\n",
              "    </script>\n",
              "  </div>\n",
              "\n",
              "\n",
              "<div id=\"df-f9003478-74ff-462c-9b7f-7fd285e8c0c0\">\n",
              "  <button class=\"colab-df-quickchart\" onclick=\"quickchart('df-f9003478-74ff-462c-9b7f-7fd285e8c0c0')\"\n",
              "            title=\"Suggest charts\"\n",
              "            style=\"display:none;\">\n",
              "\n",
              "<svg xmlns=\"http://www.w3.org/2000/svg\" height=\"24px\"viewBox=\"0 0 24 24\"\n",
              "     width=\"24px\">\n",
              "    <g>\n",
              "        <path d=\"M19 3H5c-1.1 0-2 .9-2 2v14c0 1.1.9 2 2 2h14c1.1 0 2-.9 2-2V5c0-1.1-.9-2-2-2zM9 17H7v-7h2v7zm4 0h-2V7h2v10zm4 0h-2v-4h2v4z\"/>\n",
              "    </g>\n",
              "</svg>\n",
              "  </button>\n",
              "\n",
              "<style>\n",
              "  .colab-df-quickchart {\n",
              "      --bg-color: #E8F0FE;\n",
              "      --fill-color: #1967D2;\n",
              "      --hover-bg-color: #E2EBFA;\n",
              "      --hover-fill-color: #174EA6;\n",
              "      --disabled-fill-color: #AAA;\n",
              "      --disabled-bg-color: #DDD;\n",
              "  }\n",
              "\n",
              "  [theme=dark] .colab-df-quickchart {\n",
              "      --bg-color: #3B4455;\n",
              "      --fill-color: #D2E3FC;\n",
              "      --hover-bg-color: #434B5C;\n",
              "      --hover-fill-color: #FFFFFF;\n",
              "      --disabled-bg-color: #3B4455;\n",
              "      --disabled-fill-color: #666;\n",
              "  }\n",
              "\n",
              "  .colab-df-quickchart {\n",
              "    background-color: var(--bg-color);\n",
              "    border: none;\n",
              "    border-radius: 50%;\n",
              "    cursor: pointer;\n",
              "    display: none;\n",
              "    fill: var(--fill-color);\n",
              "    height: 32px;\n",
              "    padding: 0;\n",
              "    width: 32px;\n",
              "  }\n",
              "\n",
              "  .colab-df-quickchart:hover {\n",
              "    background-color: var(--hover-bg-color);\n",
              "    box-shadow: 0 1px 2px rgba(60, 64, 67, 0.3), 0 1px 3px 1px rgba(60, 64, 67, 0.15);\n",
              "    fill: var(--button-hover-fill-color);\n",
              "  }\n",
              "\n",
              "  .colab-df-quickchart-complete:disabled,\n",
              "  .colab-df-quickchart-complete:disabled:hover {\n",
              "    background-color: var(--disabled-bg-color);\n",
              "    fill: var(--disabled-fill-color);\n",
              "    box-shadow: none;\n",
              "  }\n",
              "\n",
              "  .colab-df-spinner {\n",
              "    border: 2px solid var(--fill-color);\n",
              "    border-color: transparent;\n",
              "    border-bottom-color: var(--fill-color);\n",
              "    animation:\n",
              "      spin 1s steps(1) infinite;\n",
              "  }\n",
              "\n",
              "  @keyframes spin {\n",
              "    0% {\n",
              "      border-color: transparent;\n",
              "      border-bottom-color: var(--fill-color);\n",
              "      border-left-color: var(--fill-color);\n",
              "    }\n",
              "    20% {\n",
              "      border-color: transparent;\n",
              "      border-left-color: var(--fill-color);\n",
              "      border-top-color: var(--fill-color);\n",
              "    }\n",
              "    30% {\n",
              "      border-color: transparent;\n",
              "      border-left-color: var(--fill-color);\n",
              "      border-top-color: var(--fill-color);\n",
              "      border-right-color: var(--fill-color);\n",
              "    }\n",
              "    40% {\n",
              "      border-color: transparent;\n",
              "      border-right-color: var(--fill-color);\n",
              "      border-top-color: var(--fill-color);\n",
              "    }\n",
              "    60% {\n",
              "      border-color: transparent;\n",
              "      border-right-color: var(--fill-color);\n",
              "    }\n",
              "    80% {\n",
              "      border-color: transparent;\n",
              "      border-right-color: var(--fill-color);\n",
              "      border-bottom-color: var(--fill-color);\n",
              "    }\n",
              "    90% {\n",
              "      border-color: transparent;\n",
              "      border-bottom-color: var(--fill-color);\n",
              "    }\n",
              "  }\n",
              "</style>\n",
              "\n",
              "  <script>\n",
              "    async function quickchart(key) {\n",
              "      const quickchartButtonEl =\n",
              "        document.querySelector('#' + key + ' button');\n",
              "      quickchartButtonEl.disabled = true;  // To prevent multiple clicks.\n",
              "      quickchartButtonEl.classList.add('colab-df-spinner');\n",
              "      try {\n",
              "        const charts = await google.colab.kernel.invokeFunction(\n",
              "            'suggestCharts', [key], {});\n",
              "      } catch (error) {\n",
              "        console.error('Error during call to suggestCharts:', error);\n",
              "      }\n",
              "      quickchartButtonEl.classList.remove('colab-df-spinner');\n",
              "      quickchartButtonEl.classList.add('colab-df-quickchart-complete');\n",
              "    }\n",
              "    (() => {\n",
              "      let quickchartButtonEl =\n",
              "        document.querySelector('#df-f9003478-74ff-462c-9b7f-7fd285e8c0c0 button');\n",
              "      quickchartButtonEl.style.display =\n",
              "        google.colab.kernel.accessAllowed ? 'block' : 'none';\n",
              "    })();\n",
              "  </script>\n",
              "</div>\n",
              "    </div>\n",
              "  </div>\n"
            ],
            "application/vnd.google.colaboratory.intrinsic+json": {
              "type": "dataframe",
              "variable_name": "df",
              "summary": "{\n  \"name\": \"df\",\n  \"rows\": 683,\n  \"fields\": [\n    {\n      \"column\": \"id\",\n      \"properties\": {\n        \"dtype\": \"number\",\n        \"std\": 620644,\n        \"min\": 63375,\n        \"max\": 13454352,\n        \"num_unique_values\": 630,\n        \"samples\": [\n          1287971,\n          385103,\n          636375\n        ],\n        \"semantic_type\": \"\",\n        \"description\": \"\"\n      }\n    },\n    {\n      \"column\": \"thick\",\n      \"properties\": {\n        \"dtype\": \"number\",\n        \"std\": 2,\n        \"min\": 1,\n        \"max\": 10,\n        \"num_unique_values\": 10,\n        \"samples\": [\n          10,\n          3,\n          1\n        ],\n        \"semantic_type\": \"\",\n        \"description\": \"\"\n      }\n    },\n    {\n      \"column\": \"size_unif\",\n      \"properties\": {\n        \"dtype\": \"number\",\n        \"std\": 3,\n        \"min\": 1,\n        \"max\": 10,\n        \"num_unique_values\": 10,\n        \"samples\": [\n          6,\n          4,\n          3\n        ],\n        \"semantic_type\": \"\",\n        \"description\": \"\"\n      }\n    },\n    {\n      \"column\": \"shape_unif\",\n      \"properties\": {\n        \"dtype\": \"number\",\n        \"std\": 2,\n        \"min\": 1,\n        \"max\": 10,\n        \"num_unique_values\": 10,\n        \"samples\": [\n          7,\n          4,\n          3\n        ],\n        \"semantic_type\": \"\",\n        \"description\": \"\"\n      }\n    },\n    {\n      \"column\": \"marg\",\n      \"properties\": {\n        \"dtype\": \"number\",\n        \"std\": 2,\n        \"min\": 1,\n        \"max\": 10,\n        \"num_unique_values\": 10,\n        \"samples\": [\n          9,\n          5,\n          4\n        ],\n        \"semantic_type\": \"\",\n        \"description\": \"\"\n      }\n    },\n    {\n      \"column\": \"cell_size\",\n      \"properties\": {\n        \"dtype\": \"number\",\n        \"std\": 2,\n        \"min\": 1,\n        \"max\": 10,\n        \"num_unique_values\": 10,\n        \"samples\": [\n          10,\n          7,\n          4\n        ],\n        \"semantic_type\": \"\",\n        \"description\": \"\"\n      }\n    },\n    {\n      \"column\": \"bare\",\n      \"properties\": {\n        \"dtype\": \"number\",\n        \"std\": 3.643857160492915,\n        \"min\": 1.0,\n        \"max\": 10.0,\n        \"num_unique_values\": 10,\n        \"samples\": [\n          8.0,\n          10.0,\n          9.0\n        ],\n        \"semantic_type\": \"\",\n        \"description\": \"\"\n      }\n    },\n    {\n      \"column\": \"chrom\",\n      \"properties\": {\n        \"dtype\": \"number\",\n        \"std\": 2,\n        \"min\": 1,\n        \"max\": 10,\n        \"num_unique_values\": 10,\n        \"samples\": [\n          6,\n          9,\n          5\n        ],\n        \"semantic_type\": \"\",\n        \"description\": \"\"\n      }\n    },\n    {\n      \"column\": \"normal\",\n      \"properties\": {\n        \"dtype\": \"number\",\n        \"std\": 3,\n        \"min\": 1,\n        \"max\": 10,\n        \"num_unique_values\": 10,\n        \"samples\": [\n          9,\n          2,\n          3\n        ],\n        \"semantic_type\": \"\",\n        \"description\": \"\"\n      }\n    },\n    {\n      \"column\": \"mit\",\n      \"properties\": {\n        \"dtype\": \"number\",\n        \"std\": 1,\n        \"min\": 1,\n        \"max\": 10,\n        \"num_unique_values\": 9,\n        \"samples\": [\n          8,\n          5,\n          7\n        ],\n        \"semantic_type\": \"\",\n        \"description\": \"\"\n      }\n    },\n    {\n      \"column\": \"class\",\n      \"properties\": {\n        \"dtype\": \"number\",\n        \"std\": 0,\n        \"min\": 2,\n        \"max\": 4,\n        \"num_unique_values\": 2,\n        \"samples\": [\n          4,\n          2\n        ],\n        \"semantic_type\": \"\",\n        \"description\": \"\"\n      }\n    }\n  ]\n}"
            }
          },
          "metadata": {},
          "execution_count": 2
        }
      ],
      "source": [
        "names = ['id','thick','size_unif','shape_unif','marg','cell_size','bare',\n",
        "         'chrom','normal','mit','class']\n",
        "df = pd.read_csv('https://archive.ics.uci.edu/ml/machine-learning-databases/' +\n",
        "                 'breast-cancer-wisconsin/breast-cancer-wisconsin.data',\n",
        "                names=names,na_values='?',header=None)\n",
        "df = df.dropna()\n",
        "df.head()"
      ]
    },
    {
      "cell_type": "markdown",
      "metadata": {
        "id": "_mRvBdd0ZGPS"
      },
      "source": [
        "As in the breast cancer demo, we create a data matrix `X` of various features of the breast cancer sample.  The response vector `y` is a binary indicating if each sample is benign or malignant.  "
      ]
    },
    {
      "cell_type": "code",
      "execution_count": 3,
      "metadata": {
        "id": "pnWddvTCZGPT"
      },
      "outputs": [],
      "source": [
        "# Get the predictors\n",
        "xnames = ['thick','size_unif','shape_unif','marg','cell_size','bare',\n",
        "         'chrom','normal','mit']\n",
        "Xraw = np.array(df[xnames])\n",
        "# As usual, let's also append an all ones vector onto X to serve as the intercept feature\n",
        "X = np.concatenate((np.ones((Xraw.shape[0],1)),Xraw),axis=1)\n",
        "\n",
        "# Get the response.  Convert to a zero-one indicator\n",
        "yraw = np.array(df['class'])\n",
        "BEN_VAL = 2   # value in the 'class' label for benign samples\n",
        "MAL_VAL = 4   # value in the 'class' label for malignant samples\n",
        "y = (yraw == MAL_VAL).astype(int) # now y has values of 0,1\n",
        "Iben = (y==0)\n",
        "Imal = (y==1)"
      ]
    },
    {
      "cell_type": "markdown",
      "metadata": {
        "id": "p6sl-AhrZGPT"
      },
      "source": [
        "We want to learn the classification rule to predict `y` from `X`.  We will do so with logistic regression."
      ]
    },
    {
      "cell_type": "markdown",
      "metadata": {
        "id": "k_BvqUD7ZGPT"
      },
      "source": [
        "## Computing the Gradient and Loss Function\n",
        "\n",
        "Recall that training a logistic function means finding a weight vector $\\beta$ for the classification rule:\n",
        "* Predict 1 for data vector $\\vec{x}$ if $\\vec{x}^T\\vec{\\beta} > 0$.\n",
        "* Predict 0 for data vector $\\vec{x}$ if $\\vec{x}^T\\vec{\\beta} \\leq 0$.\n",
        "\n",
        "Let $h_{\\vec{\\beta}}(\\vec{x}) = \\frac{1}{1 + e^{-\\vec{x}^T\\vec{\\beta}}}$. To find $\\beta$, we minimize the cross-entropy loss (aka the logistic loss):\n",
        "$$\n",
        "L(\\vec{\\beta}) = - \\sum_{i=1}^n y_i \\log(h_{\\vec{\\beta}}(\\vec{x}_i)) + (1-y_i) \\log(1-h_{\\vec{\\beta}}(\\vec{x}_i)).\n",
        "$$\n",
        "One issue with the expresion above for $L$ is that it can be *numerically unstable*. Essentially what can happen is you end up taking logs of numbers very close to zero and Python will return NaNs due to issues with using finite precision arithmetic. To deal with this problem, we write down an alternative expression for `L` which is *mathematically equivalent* but can be computed more accurately in finite precision arithmetic:\n",
        "$$\n",
        "L(\\vec{\\beta}) = \\sum_{i=1}^n (1-y_i)(\\vec{x}_i^T\\vec{\\beta}) - \\log(h_{\\vec{\\beta}}(\\vec{x}_i)).\n",
        "$$\n",
        "\n",
        "As we claimed in class, for this loss function we have\n",
        "$$\n",
        "\\nabla L(\\vec{\\beta}) = \\mathbf{X}^T(h_{\\vec{\\beta}}(\\mathbf{X}) - y)\n",
        "$$\n",
        "where $h_{\\vec{\\beta}}(\\mathbf{X})$ denotes the vector obtained by applying $h$ to every row in $\\mathbf{X}$.\n",
        "    \n",
        "    \n",
        "We will first write a function to compute `L` and its gradient `Lgrad`."
      ]
    },
    {
      "cell_type": "code",
      "execution_count": 4,
      "metadata": {
        "id": "lo-aKVsLZGPU"
      },
      "outputs": [],
      "source": [
        "def Leval(beta,X,y):\n",
        "    \"\"\"\n",
        "    Compute the loss and gradient given beta,X,y\n",
        "    \"\"\"\n",
        "    z = X@beta\n",
        "    h = 1/(1+np.exp(-z))\n",
        "    L = np.sum((1-y)*z - np.log(h))\n",
        "\n",
        "    # Gradient\n",
        "    Lgrad = (X.T)@(h-y)\n",
        "    return L, Lgrad"
      ]
    },
    {
      "cell_type": "markdown",
      "metadata": {
        "id": "QRBlTQPEZGPU"
      },
      "source": [
        "We can test our function on a random parameter vector $\\vec{\\beta}_0$."
      ]
    },
    {
      "cell_type": "code",
      "execution_count": 5,
      "metadata": {
        "id": "4d-xoSX7ZGPV"
      },
      "outputs": [],
      "source": [
        "# Some random point\n",
        "p = X.shape[1]\n",
        "beta0 = np.random.randn(p)\n",
        "\n",
        "# Call the function\n",
        "L, Lgrad = Leval(beta0,X,y)"
      ]
    },
    {
      "cell_type": "markdown",
      "metadata": {
        "id": "5bDViQjWZGPZ"
      },
      "source": [
        "It's not ideal that the loss function `L(beta,X,y)` depends on the parameters `X` and `y`.  Most numerical optimizers expect a function that only depends on `beta`, which contains the parameters begin optimized. We can acheive this by using a Python `lambda` function to fix the parameters `X` and `y`."
      ]
    },
    {
      "cell_type": "code",
      "execution_count": 6,
      "metadata": {
        "id": "ndyJcp3hZGPZ"
      },
      "outputs": [],
      "source": [
        "# Create a function with X,y fixed\n",
        "Leval_param = lambda beta: Leval(beta,X,y)\n",
        "\n",
        "# You can now pass a parameter like w0\n",
        "L0, Lgrad0 = Leval_param(beta0)"
      ]
    },
    {
      "cell_type": "markdown",
      "metadata": {
        "id": "2rYggsePZGPZ"
      },
      "source": [
        "### Testing the gradient\n",
        "\n",
        "Whenever you write a function for computing a gradient, it is very important to test if the gradient is correct.  This is the number one reason people's code does not work with numerical optimizers.  The simplest method is to take two points `beta0` and `beta1` that are close to one another and then verify that:\n",
        "$$\n",
        "L(\\vec{\\beta}_1) - L(\\vec{\\beta}_0) \\approx \\langle \\nabla L(\\vec{\\beta}_0), \\vec{\\beta}_1 - \\vec{\\beta}_0\\rangle.\n",
        "$$"
      ]
    },
    {
      "cell_type": "code",
      "execution_count": 7,
      "metadata": {
        "id": "lcYXo_CXZGPZ",
        "outputId": "c5e38d58-66a4-4bd1-8731-992a82db34e5",
        "colab": {
          "base_uri": "https://localhost:8080/"
        }
      },
      "outputs": [
        {
          "output_type": "stream",
          "name": "stdout",
          "text": [
            "Actual L1-L0    =   5.0544e-03\n",
            "Predicted L1-L0 =   5.0544e-03\n"
          ]
        }
      ],
      "source": [
        "# Take a random initial point\n",
        "p = X.shape[1]\n",
        "beta0 = np.random.randn(p)\n",
        "\n",
        "# Perturb the point\n",
        "step = 1e-6\n",
        "beta1 = beta0 + step*np.random.randn(p)\n",
        "\n",
        "# Measure the function and gradient at w0 and w1\n",
        "L0, Lgrad0 = Leval_param(beta0)\n",
        "L1, Lgrad1 = Leval_param(beta1)\n",
        "\n",
        "# Predict the amount the function should have changed based on the gradient\n",
        "dL_est = Lgrad0.T@(beta1-beta0)\n",
        "\n",
        "# Print the two values to see if they are close\n",
        "print(\"Actual L1-L0    = %12.4e\" % (L1-L0))\n",
        "print(\"Predicted L1-L0 = %12.4e\" % dL_est)"
      ]
    },
    {
      "cell_type": "markdown",
      "metadata": {
        "id": "fZucpF0DZGPZ"
      },
      "source": [
        "You can see that the two agree well. You can run the block multiple times to get different answers (depending on the random choice of $\\beta_0$, but you always see agreement."
      ]
    },
    {
      "cell_type": "markdown",
      "metadata": {
        "id": "rjOVKke8ZGPb"
      },
      "source": [
        "## A Simple Gradient Descent Optimizer\n",
        "\n",
        "Now, we build a simple gradient descent optimizer function with a fixed learning rate."
      ]
    },
    {
      "cell_type": "code",
      "execution_count": 8,
      "metadata": {
        "id": "Zzs3XqaBZGPb"
      },
      "outputs": [],
      "source": [
        "def grad_opt_simp(grad_func, beta0, lr=1e-3,nit=1000):\n",
        "    \"\"\"\n",
        "    Simple gradient descent optimization\n",
        "\n",
        "    grad_func:  A function that returns the objective function L, and its gradient Leval\n",
        "    beta0:  Initial estimate for parameters beta\n",
        "    lr:     learning rate\n",
        "    nit:    Number of iterations\n",
        "    \"\"\"\n",
        "\n",
        "    # Create history dictionary for tracking progress per iteration.\n",
        "    # This isn't necessary if you just want the final answer, but it\n",
        "    # is useful for debugging\n",
        "    hist = {'beta': [], 'L': []}\n",
        "\n",
        "    # initialize\n",
        "    beta = beta0\n",
        "\n",
        "    # Loop over iterations\n",
        "    for it in range(nit):\n",
        "\n",
        "        # Evaluate the function and gradient\n",
        "        L, Lgrad = grad_func(beta)\n",
        "\n",
        "        # Take a gradient step\n",
        "        beta = beta - lr*Lgrad\n",
        "\n",
        "         # Save history\n",
        "        hist['L'].append(L)\n",
        "        hist['beta'].append(beta)\n",
        "\n",
        "    # Convert to numpy arrays\n",
        "    for elem in ('L', 'beta'):\n",
        "        hist[elem] = np.array(hist[elem])\n",
        "    return beta, L, hist"
      ]
    },
    {
      "cell_type": "markdown",
      "metadata": {
        "id": "kM24nQLJZGPb"
      },
      "source": [
        "We now run the gradient descent starting from a initial condition of $\\vec{\\beta}_0 = \\vec{0}$."
      ]
    },
    {
      "cell_type": "code",
      "execution_count": 9,
      "metadata": {
        "scrolled": true,
        "id": "l_38PBurZGPb",
        "outputId": "64e40a85-c49e-4fe0-f491-50a6a2af1250",
        "colab": {
          "base_uri": "https://localhost:8080/",
          "height": 430
        }
      },
      "outputs": [
        {
          "output_type": "display_data",
          "data": {
            "text/plain": [
              "<Figure size 640x480 with 1 Axes>"
            ],
            "image/png": "[encoded data removed]"
          },
          "metadata": {}
        }
      ],
      "source": [
        "# Initial condition\n",
        "beta0 = np.zeros(p)\n",
        "\n",
        "# Parameters\n",
        "nit = 2000\n",
        "lr = 1e-5\n",
        "\n",
        "# Run the gradient descent\n",
        "beta, L, hist = grad_opt_simp(Leval_param, beta0, lr=lr, nit=nit)\n",
        "\n",
        "# Plot the training loss\n",
        "t = np.arange(nit)\n",
        "plt.plot(t, hist['L'])\n",
        "plt.grid()"
      ]
    },
    {
      "cell_type": "markdown",
      "metadata": {
        "id": "ndmFpjJgZGPb"
      },
      "source": [
        "We can measure the accuracy of the final estimate by creating a predict method."
      ]
    },
    {
      "cell_type": "code",
      "execution_count": 10,
      "metadata": {
        "id": "cwC1hMpcZGPb"
      },
      "outputs": [],
      "source": [
        "def predict(X,beta):\n",
        "    z = X@beta\n",
        "    yhat = (z > 0)\n",
        "    return (1*yhat)"
      ]
    },
    {
      "cell_type": "code",
      "execution_count": 11,
      "metadata": {
        "scrolled": true,
        "id": "3QEGqP1VZGPb",
        "outputId": "46e11b55-fd15-4c3f-f4f6-da4a2d376da8",
        "colab": {
          "base_uri": "https://localhost:8080/"
        }
      },
      "outputs": [
        {
          "output_type": "stream",
          "name": "stdout",
          "text": [
            "Train accuracy = 0.941435\n"
          ]
        }
      ],
      "source": [
        "yhat = predict(X,beta)\n",
        "acc = np.mean(yhat == y)\n",
        "print(\"Train accuracy = %f\" % acc)"
      ]
    },
    {
      "cell_type": "markdown",
      "metadata": {
        "id": "xDqQgujwZGPb"
      },
      "source": [
        "This is not quite as good as the accuracy for the `sklearn` method from the demo, which was about 98.5%.  The reason is that the learning rate was somewhat slow and we didn't yet fully converge.\n",
        "\n",
        "To see the effect of the learning rate, the code below tries different learning rates."
      ]
    },
    {
      "cell_type": "code",
      "execution_count": 12,
      "metadata": {
        "id": "ROLK-7vsZGPb",
        "outputId": "63cd53c5-8575-4c92-8b02-89c5bb4fbe79",
        "colab": {
          "base_uri": "https://localhost:8080/",
          "height": 498
        }
      },
      "outputs": [
        {
          "output_type": "stream",
          "name": "stdout",
          "text": [
            "lr=    1.00e-05  Train accuracy = 0.941435\n",
            "lr=    1.00e-04  Train accuracy = 0.969253\n",
            "lr=    1.00e-03  Train accuracy = 0.970717\n"
          ]
        },
        {
          "output_type": "execute_result",
          "data": {
            "text/plain": [
              "<matplotlib.legend.Legend at 0x78946d998220>"
            ]
          },
          "metadata": {},
          "execution_count": 12
        },
        {
          "output_type": "display_data",
          "data": {
            "text/plain": [
              "<Figure size 640x480 with 1 Axes>"
            ],
            "image/png": "[encoded data removed]"
          },
          "metadata": {}
        }
      ],
      "source": [
        "# Learning rate values to test\n",
        "lr_test = [1e-5,1e-4,1e-3]\n",
        "ntest = len(lr_test)\n",
        "\n",
        "# Strings for the legend\n",
        "leg_str = []\n",
        "\n",
        "beta0 = np.zeros(p)\n",
        "for i in range(ntest):\n",
        "    # Run the optimizer\n",
        "    beta, L, hist = grad_opt_simp(Leval_param, beta0, lr=lr_test[i], nit=nit)\n",
        "\n",
        "    # Plot the results\n",
        "    plt.semilogy(t, hist['L'])\n",
        "    leg_str.append(\"lr=%12.2e\" % lr_test[i])\n",
        "\n",
        "    # Measure the train accuracy\n",
        "    yhat = predict(X,beta)\n",
        "    acc = np.mean(yhat == y)\n",
        "    print(\"lr=%12.2e  Train accuracy = %f\" % (lr_test[i], acc))\n",
        "\n",
        "plt.grid()\n",
        "plt.legend(leg_str, loc='upper right')"
      ]
    },
    {
      "cell_type": "markdown",
      "metadata": {
        "id": "CWfssuxlZGPb"
      },
      "source": [
        "We see that increasing the learning rate, speeds the convergence time, but the optimization is beginning to go unstable. It recovers from this instability for learning rate `1e-3`, but try running with rate `1e-2` to see more of an issue."
      ]
    },
    {
      "cell_type": "markdown",
      "metadata": {
        "id": "RsbTrJvrZGPb"
      },
      "source": [
        "## Adaptive Step Size\n",
        "\n",
        "The above example shows that gradient descent is sensitive to the step size.  We now consider a variant of gradient descent with an adaptive step-size using the Armijo rule discussed in class."
      ]
    },
    {
      "cell_type": "code",
      "execution_count": 13,
      "metadata": {
        "id": "QUw5uoqLZGPc"
      },
      "outputs": [],
      "source": [
        "def grad_opt_adapt(grad_func, beta0, nit=2000, lr_init=1e-3):\n",
        "    \"\"\"\n",
        "    Gradient descent optimization with adaptive step size\n",
        "\n",
        "    feval:  A function that returns f, fgrad, the objective\n",
        "            function and its gradient\n",
        "    beta0:  Initial estimate\n",
        "    nit:    Number of iterations\n",
        "    lr:     Initial learning rate\n",
        "    \"\"\"\n",
        "\n",
        "    # Set initial point\n",
        "    beta = beta0\n",
        "    lr = lr_init\n",
        "\n",
        "    # Create history dictionary for tracking progress per iteration.\n",
        "    # This isn't necessary if you just want the final answer, but it\n",
        "    # is useful for debugging\n",
        "    hist = {'lr': [], 'beta': [], 'L': []}\n",
        "\n",
        "    L,Lgrad = grad_func(beta0)\n",
        "    for it in range(nit):\n",
        "\n",
        "        # Take a gradient step\n",
        "        beta1 = beta - lr*Lgrad\n",
        "\n",
        "        # Evaluate the test point by computing the objective function, L1,\n",
        "        # at the test point and the predicted decrease, df_est\n",
        "        L1, Lgrad1 = grad_func(beta1)\n",
        "        df_est = Lgrad.T@(beta1-beta)\n",
        "\n",
        "        # Check if test point passes the Armijo condition\n",
        "        alpha = 0.5\n",
        "        if (L1-L < alpha*df_est) and (L1 < L):\n",
        "            # If descent is sufficient, accept the point and increase the learning rate\n",
        "            lr = lr*2\n",
        "            L = L1\n",
        "            Lgrad = Lgrad1\n",
        "            beta = beta1\n",
        "        else:\n",
        "            # Otherwise, decrease the learning rate\n",
        "            lr = lr/2\n",
        "\n",
        "        # Save history\n",
        "        hist['L'].append(L)\n",
        "        hist['lr'].append(lr)\n",
        "        hist['beta'].append(beta)\n",
        "\n",
        "    # Convert to numpy arrays\n",
        "    for elem in ('L', 'lr', 'beta'):\n",
        "        hist[elem] = np.array(hist[elem])\n",
        "    return beta, L, hist\n"
      ]
    },
    {
      "cell_type": "markdown",
      "metadata": {
        "id": "bP74mWq5ZGPc"
      },
      "source": [
        "We can now run the new optimizer."
      ]
    },
    {
      "cell_type": "code",
      "execution_count": 14,
      "metadata": {
        "id": "q116z7zmZGPc",
        "outputId": "87b4841c-af94-42a5-e4b4-2a25914a8b8a",
        "colab": {
          "base_uri": "https://localhost:8080/",
          "height": 487
        }
      },
      "outputs": [
        {
          "output_type": "display_data",
          "data": {
            "text/plain": [
              "<Figure size 640x480 with 2 Axes>"
            ],
            "image/png": "[encoded data removed]"
          },
          "metadata": {}
        }
      ],
      "source": [
        "beta0 = np.zeros(p)\n",
        "nit = 2000\n",
        "beta, L, hist = grad_opt_adapt(Leval_param, beta0, nit=nit)\n",
        "\n",
        "t = np.arange(nit)\n",
        "plt.subplot(2,1,1)\n",
        "plt.semilogy(t, hist['L'])\n",
        "plt.grid()\n",
        "plt.ylabel('Loss')\n",
        "\n",
        "plt.subplot(2,1,2)\n",
        "plt.loglog(t, hist['lr'])\n",
        "plt.grid()\n",
        "plt.ylabel('Learning rate')\n",
        "plt.xlabel('Iteration')\n",
        "plt.tight_layout()"
      ]
    },
    {
      "cell_type": "markdown",
      "metadata": {
        "id": "KcLnS7E_ZGPc"
      },
      "source": [
        "Finally we measure the accuracy and see that we performed as well as the best fixed step size used above."
      ]
    },
    {
      "cell_type": "code",
      "execution_count": 15,
      "metadata": {
        "id": "Mdxl8r70ZGPc",
        "outputId": "30e5d2c3-92f3-46ce-bb99-a7fb05d51794",
        "colab": {
          "base_uri": "https://localhost:8080/"
        }
      },
      "outputs": [
        {
          "output_type": "stream",
          "name": "stdout",
          "text": [
            "Train accuracy = 0.970717\n"
          ]
        }
      ],
      "source": [
        "yhat = predict(X,beta)\n",
        "acc = np.mean(yhat == y)\n",
        "print(\"Train accuracy = %f\" % acc)"
      ]
    },
    {
      "cell_type": "markdown",
      "metadata": {
        "id": "Y7SoYMcwZGPc"
      },
      "source": [
        "## L2 Regularization\n",
        "\n",
        "Just as for linear regression, given enough features, logsitic regression can be prone to overfitting. In such cases, it often make sense to add regularization when training. In particular, instead of minimizing:\n",
        "$$\n",
        "L(\\mathbf{\\vec{\\beta}}) =\\sum_{i=1}^n (1-y_i)(\\vec{x}_i^T\\vec{\\beta}) - \\log(h_{\\vec{\\beta}}(\\vec{x}_i)).\n",
        "$$\n",
        "we might use $\\ell_2$ regularization and choose $\\beta$ to minimize\n",
        "$$\n",
        "L_R(\\vec{\\beta}) = L(\\vec{\\beta}) + \\lambda \\|\\vec{\\beta}\\|_2^2\n",
        "$$\n",
        "for some regularization parameter $\\lambda$."
      ]
    },
    {
      "cell_type": "markdown",
      "metadata": {
        "id": "eQSpIig5ZGPd"
      },
      "source": [
        "Write a function which evaluates the regularized loss `Lr` for parameters `beta` and also computes the gradient $\\nabla L_R(\\vec{\\beta})$ at `beta`. You will have to derive an expression for this gradient to correctly implement your function."
      ]
    },
    {
      "cell_type": "code",
      "execution_count": 16,
      "metadata": {
        "id": "mGPhxz42ZGPd"
      },
      "outputs": [],
      "source": [
        "def Leval_reg(beta,X,y,lamb):\n",
        "    \"\"\"\n",
        "    Compute the regularized loss and gradient given beta, X, y, and regularization parameter lamb\n",
        "    \"\"\"\n",
        "    z = X@beta\n",
        "    h = 1/(1+np.exp(-z))\n",
        "    L = np.sum((1-y)*z - np.log(h))\n",
        "    Lr = L + lamb*np.sum(np.square(beta))\n",
        "    Lrgrad = (X.T)@(h-y)  + 2 * lamb * beta\n",
        "\n",
        "    return Lr, Lrgrad"
      ]
    },
    {
      "cell_type": "markdown",
      "metadata": {
        "id": "cZKhYWGiZGPd"
      },
      "source": [
        "As we did above for the unregularized loss, write code to test your gradient computation. Run your test for `lamb` equals `0`,`1`,`10`,`100` and print output which confirms the accuracy of your gradient in all cases."
      ]
    },
    {
      "cell_type": "code",
      "execution_count": 17,
      "metadata": {
        "id": "CAT5xPjfZGPd",
        "colab": {
          "base_uri": "https://localhost:8080/"
        },
        "outputId": "74d87cdc-7032-4b29-c525-d74ae58c1fe5"
      },
      "outputs": [
        {
          "output_type": "stream",
          "name": "stdout",
          "text": [
            "Actual Lr1-Lr0    =   2.3117e-04\n",
            "Predicted Lr1-Lr0 =   2.3117e-04\n",
            "Actual Lr1-Lr0    =   2.1967e-04\n",
            "Predicted Lr1-Lr0 =   2.1966e-04\n",
            "Actual Lr1-Lr0    =   1.1615e-04\n",
            "Predicted Lr1-Lr0 =   1.1615e-04\n",
            "Actual Lr1-Lr0    =  -9.1905e-04\n",
            "Predicted Lr1-Lr0 =  -9.1905e-04\n"
          ]
        }
      ],
      "source": [
        "p = X.shape[1]\n",
        "beta0 = np.random.randn(p)\n",
        "step = 1e-6\n",
        "beta1 = beta0 + step*np.random.randn(p)\n",
        "\n",
        "Leval_param_reg = lambda beta, lamb: Leval_reg(beta,X,y,lamb)\n",
        "\n",
        "Lr0, Lrgrad0 = Leval_param_reg(beta0, 0)\n",
        "Lr1, Lrgrad1 = Leval_param_reg(beta1, 0)\n",
        "dLr_est = Lrgrad0.T@(beta1-beta0)\n",
        "\n",
        "print(\"Actual Lr1-Lr0    = %12.4e\" % (Lr1-Lr0))\n",
        "print(\"Predicted Lr1-Lr0 = %12.4e\" % dLr_est)\n",
        "\n",
        "Lr0, Lrgrad0 = Leval_param_reg(beta0, 1)\n",
        "Lr1, Lrgrad1 = Leval_param_reg(beta1, 1)\n",
        "dLr_est = Lrgrad0.T@(beta1-beta0)\n",
        "\n",
        "print(\"Actual Lr1-Lr0    = %12.4e\" % (Lr1-Lr0))\n",
        "print(\"Predicted Lr1-Lr0 = %12.4e\" % dLr_est)\n",
        "\n",
        "Lr0, Lrgrad0 = Leval_param_reg(beta0, 10)\n",
        "Lr1, Lrgrad1 = Leval_param_reg(beta1, 10)\n",
        "dLr_est = Lrgrad0.T@(beta1-beta0)\n",
        "\n",
        "print(\"Actual Lr1-Lr0    = %12.4e\" % (Lr1-Lr0))\n",
        "print(\"Predicted Lr1-Lr0 = %12.4e\" % dLr_est)\n",
        "\n",
        "Lr0, Lrgrad0 = Leval_param_reg(beta0, 100)\n",
        "Lr1, Lrgrad1 = Leval_param_reg(beta1, 100)\n",
        "dLr_est = Lrgrad0.T@(beta1-beta0)\n",
        "\n",
        "print(\"Actual Lr1-Lr0    = %12.4e\" % (Lr1-Lr0))\n",
        "print(\"Predicted Lr1-Lr0 = %12.4e\" % dLr_est)"
      ]
    },
    {
      "cell_type": "markdown",
      "metadata": {
        "id": "M_qRks55ZGPd"
      },
      "source": [
        "For `lamb` equals `0`,`1`,`10`,`100` use `grad_opt_adapt` run for `2000` iterations with $\\vec{\\beta}_0 = \\vec{0}$ to find a parameter vector $\\beta$ which approximately minimizes $L_R(\\beta)$. For each regularization level, print the train accuracy achieved when using the optimal parameters. Note that we expect the **train accuracy to decrease** as the regularization parameter increases. Regularization often helps **test accuracy to increase**, but for this lab we're keeping things simple without a test set."
      ]
    },
    {
      "cell_type": "code",
      "source": [
        "def grad_opt_adapt_l2(grad_func, beta0, lamb, nit=2000, lr_init=1e-3):\n",
        "    \"\"\"\n",
        "    Gradient descent optimization with adaptive step size\n",
        "\n",
        "    feval:  A function that returns f, fgrad, the objective\n",
        "            function and its gradient\n",
        "    beta0:  Initial estimate\n",
        "    lamb:   Regularization constant\n",
        "    nit:    Number of iterations\n",
        "    lr:     Initial learning rate\n",
        "    \"\"\"\n",
        "\n",
        "    # Set initial point\n",
        "    beta = beta0\n",
        "    lr = lr_init\n",
        "\n",
        "    # Create history dictionary for tracking progress per iteration.\n",
        "    # This isn't necessary if you just want the final answer, but it\n",
        "    # is useful for debugging\n",
        "    hist = {'lr': [], 'beta': [], 'L': []}\n",
        "\n",
        "    L,Lgrad = grad_func(beta0, lamb)\n",
        "    for it in range(nit):\n",
        "\n",
        "        # Take a gradient step\n",
        "        beta1 = beta - lr*Lgrad\n",
        "\n",
        "        # Evaluate the test point by computing the objective function, L1,\n",
        "        # at the test point and the predicted decrease, df_est\n",
        "        L1, Lgrad1 = grad_func(beta1, lamb)\n",
        "        df_est = Lgrad.T@(beta1-beta)\n",
        "\n",
        "        # Check if test point passes the Armijo condition\n",
        "        alpha = 0.5\n",
        "        if (L1-L < alpha*df_est) and (L1 < L):\n",
        "            # If descent is sufficient, accept the point and increase the learning rate\n",
        "            lr = lr*2\n",
        "            L = L1\n",
        "            Lgrad = Lgrad1\n",
        "            beta = beta1\n",
        "        else:\n",
        "            # Otherwise, decrease the learning rate\n",
        "            lr = lr/2\n",
        "\n",
        "        # Save history\n",
        "        hist['L'].append(L)\n",
        "        hist['lr'].append(lr)\n",
        "        hist['beta'].append(beta)\n",
        "\n",
        "    # Convert to numpy arrays\n",
        "    for elem in ('L', 'lr', 'beta'):\n",
        "        hist[elem] = np.array(hist[elem])\n",
        "    return beta, L, hist"
      ],
      "metadata": {
        "id": "NNoPUn3l1LI1"
      },
      "execution_count": 18,
      "outputs": []
    },
    {
      "cell_type": "code",
      "execution_count": 19,
      "metadata": {
        "id": "LP760Z30ZGPd",
        "colab": {
          "base_uri": "https://localhost:8080/"
        },
        "outputId": "15d4ab74-8e32-49b3-ae10-e44ce65d421f"
      },
      "outputs": [
        {
          "output_type": "stream",
          "name": "stdout",
          "text": [
            "lamb = 0, Train accuracy = 0.970717\n",
            "lamb = 1, Train accuracy = 0.969253\n",
            "lamb = 10, Train accuracy = 0.959004\n",
            "lamb = 100, Train accuracy = 0.920937\n"
          ]
        }
      ],
      "source": [
        "nit = 2000\n",
        "beta, L, hist = grad_opt_adapt_l2(Leval_param_reg, beta0, 0, nit=nit)\n",
        "yhat = predict(X,beta)\n",
        "acc = np.mean(yhat == y)\n",
        "print(\"lamb = 0, Train accuracy = %f\" % acc)\n",
        "\n",
        "nit = 2000\n",
        "beta, L, hist = grad_opt_adapt_l2(Leval_param_reg, beta0, 1, nit=nit)\n",
        "yhat = predict(X,beta)\n",
        "acc = np.mean(yhat == y)\n",
        "print(\"lamb = 1, Train accuracy = %f\" % acc)\n",
        "\n",
        "nit = 2000\n",
        "beta, L, hist = grad_opt_adapt_l2(Leval_param_reg, beta0, 10, nit=nit)\n",
        "yhat = predict(X,beta)\n",
        "acc = np.mean(yhat == y)\n",
        "print(\"lamb = 10, Train accuracy = %f\" % acc)\n",
        "\n",
        "nit = 2000\n",
        "beta, L, hist = grad_opt_adapt_l2(Leval_param_reg, beta0, 100, nit=nit)\n",
        "yhat = predict(X,beta)\n",
        "acc = np.mean(yhat == y)\n",
        "print(\"lamb = 100, Train accuracy = %f\" % acc)\n",
        "# These are the outputs I got:\n",
        "# lamb = 0, Train accuracy = 0.970717\n",
        "# lamb = 1, Train accuracy = 0.969253\n",
        "# lamb = 10, Train accuracy = 0.959004\n",
        "# lamb = 100, Train accuracy = 0.920937"
      ]
    },
    {
      "cell_type": "markdown",
      "source": [],
      "metadata": {
        "id": "i3ogP3nc14nr"
      }
    },
    {
      "cell_type": "markdown",
      "source": [
        "## Stochastic Gradient Descent\n",
        "\n",
        "As we saw in class, for very large data sets, implementing full gradient descent can be impractical, so stochastic gradient descent is used instead. In this next section, your goal is to implement a stochastic gradient oracle and corresponding stochastic gradient descent iteration to minimize the logistic loss function. Begin by writing a function that computes the gradient of $$\n",
        "L_j(\\vec{\\beta}) = (1-y_j)(\\vec{x}_j^T\\vec{\\beta}) - \\log(h_{\\vec{\\beta}}(\\vec{x}_j)).\n",
        "$$\n",
        "For any $j$. Your function can should take the vector $\\vec{x}_j$ and label $y_j\\in \\{0,1\\}$ as input. Note that\n",
        "$$\n",
        "L(\\vec{\\beta}) = \\sum_{i=1}^n L_j(\\vec{\\beta}),\n",
        "$$\n",
        "so as shown in class, $n\\cdot \\mathbb{E}[\\nabla L_j(\\vec{\\beta})] = \\nabla L(\\vec{\\beta})$."
      ],
      "metadata": {
        "id": "-deCePiL47r1"
      }
    },
    {
      "cell_type": "code",
      "source": [
        "def Leval_stoc(beta,x,y):\n",
        "    \"\"\"\n",
        "    Compute the stochastic gradient given beta, vector x, and single label y\n",
        "    Note that, unlike before, your function should not compute the loss function value,\n",
        "    as this would be more expensive then computing the stochastic gradient\n",
        "    \"\"\"\n",
        "    z = x@beta\n",
        "    h = 1/(1+np.exp(-z))\n",
        "    Lgrad_stoc = (h - y) * x\n",
        "    return Lgrad_stoc"
      ],
      "metadata": {
        "id": "8stcfSHe8eM9"
      },
      "execution_count": 20,
      "outputs": []
    },
    {
      "cell_type": "markdown",
      "source": [
        "Just as we did for our standard gradient oracle, it is a good idea to check that your stochastic gradient is being computed directly. One good way of doing so is verifying that $n\\cdot \\mathbb{E}[\\nabla L_j(\\vec{\\beta})] = \\nabla L(\\vec{\\beta})$. To do so, we can estimate $\\mathbb{E}[\\nabla L_j(\\vec{\\beta})]$ using a large sample of data points and compare to $\\nabla L(\\vec{\\beta})$. Write code to do so below. I estimated $\\mathbb{E}[\\nabla L_j(\\vec{\\beta})]$ using 10000 random samples."
      ],
      "metadata": {
        "id": "OH_Xm9vWZCzD"
      }
    },
    {
      "cell_type": "code",
      "source": [
        "def estimate_expected_gradient(beta, X, y, num_samples=10000):\n",
        "    n, p = X.shape\n",
        "    avg_gradient = np.zeros(p)\n",
        "\n",
        "    for _ in range(num_samples):\n",
        "        # Randomly select a data point\n",
        "        random_index = np.random.randint(n)\n",
        "        x_j = X[random_index, :]\n",
        "        y_j = y[random_index]\n",
        "\n",
        "        # Compute stochastic gradient for the selected data point\n",
        "        grad_stoc = Leval_stoc(beta, x_j, y_j)\n",
        "\n",
        "        # Accumulate the stochastic gradients\n",
        "        avg_gradient += grad_stoc / num_samples\n",
        "\n",
        "    return avg_gradient * n  # Scaling to approximate the expected gradient"
      ],
      "metadata": {
        "id": "gM0pNCAGcTOY"
      },
      "execution_count": 21,
      "outputs": []
    },
    {
      "cell_type": "code",
      "source": [
        "p = X.shape[1]\n",
        "beta0 = np.random.randn(p)\n",
        "\n",
        "# Call the function\n",
        "L0, Lgrad0 = Leval(beta0,X,y)\n",
        "\n",
        "# Estimate the expected gradient\n",
        "expected_gradient = estimate_expected_gradient(beta0, X, y)\n",
        "\n",
        "# Print the actual gradient and the estimated expected gradient\n",
        "print(\"Actual Gradient    =\", Lgrad0)\n",
        "print(\"Expected Gradient  =\", expected_gradient)"
      ],
      "metadata": {
        "colab": {
          "base_uri": "https://localhost:8080/"
        },
        "id": "pGvxQD_loqmU",
        "outputId": "00e06ab5-5542-4798-d375-f1c7df56576b"
      },
      "execution_count": 22,
      "outputs": [
        {
          "output_type": "stream",
          "name": "stdout",
          "text": [
            "Actual Gradient    = [  17.90824234 -583.38767433 -643.0210097  -543.39958771 -361.39064537\n",
            " -500.80324352 -644.32147238 -300.88684418 -438.1290917  -256.7688254 ]\n",
            "Expected Gradient  = [  11.46326497 -627.48509755 -681.59883389 -580.31074868 -372.26854174\n",
            " -537.44465894 -684.15768427 -321.33919465 -458.80750978 -266.2198089 ]\n"
          ]
        }
      ]
    },
    {
      "cell_type": "markdown",
      "source": [
        "With your stochastic gradient oracle implemented, write a basic implementation of stochastic gradient descent with a fixed learning rate. As in our implementation of `grad_opt_simp`, store the history of errors obtained by the algorithm. This will require evaluating our loss function at every iteration, which we would not actually do in practice, since it is computationally expensive. But we will do it here to visualize how the method does."
      ],
      "metadata": {
        "id": "84JhB-b8e8Xs"
      }
    },
    {
      "cell_type": "code",
      "source": [
        "def stoc_grad_opt(X, y, stoc_grad_func, beta0, lr=1e-3, nit=1000):\n",
        "    \"\"\"\n",
        "    Simple stochastic gradient descent optimization\n",
        "\n",
        "    stoc_grad_func:  A function that returns the stochastic gradient of the loss for a given input row of X and entry of y\n",
        "    beta0:  Initial estimate for parameters beta\n",
        "    lr:     learning rate\n",
        "    nit:    Number of iterations\n",
        "    \"\"\"\n",
        "\n",
        "    # Create history dictionary for tracking progress per iteration\n",
        "    hist = {'beta': [], 'L': []}\n",
        "\n",
        "    # Initialize beta\n",
        "    beta = beta0\n",
        "\n",
        "    # Loop over iterations\n",
        "    for it in range(nit):\n",
        "\n",
        "        # Randomly shuffle the data\n",
        "        indices = np.random.permutation(len(y))\n",
        "        X_shuffled = X[indices, :]\n",
        "        y_shuffled = y[indices]\n",
        "\n",
        "        # Evaluate the stochastic gradient and loss for each data point\n",
        "        for i in range(len(y)):\n",
        "            x_i = X_shuffled[i, :]\n",
        "            y_i = y_shuffled[i]\n",
        "\n",
        "            # Compute stochastic gradient\n",
        "            Lgrad_stoc = stoc_grad_func(beta, x_i, y_i)\n",
        "\n",
        "            # Update beta using stochastic gradient\n",
        "            beta = beta - lr * Lgrad_stoc\n",
        "\n",
        "        # Evaluate the overall loss after each iteration\n",
        "        L, _ = Leval(beta, X, y)\n",
        "\n",
        "        # Save history\n",
        "        hist['L'].append(L)\n",
        "        hist['beta'].append(beta)\n",
        "\n",
        "    # Convert to numpy arrays\n",
        "    for elem in ('L', 'beta'):\n",
        "        hist[elem] = np.array(hist[elem])\n",
        "\n",
        "    return beta, L, hist"
      ],
      "metadata": {
        "id": "wkAcs3A25uQr"
      },
      "execution_count": 23,
      "outputs": []
    },
    {
      "cell_type": "markdown",
      "source": [
        "Run your stochastic gradient descent method starting from initial condition $\\boldsymbol{\\beta}_0 = \\vec{0}$ and plot the output. Feel free to experiment with different learning rates. Notice that even for small learning rates, the loss does not necessarily decrease monotonically due to randomness inherent in the method."
      ],
      "metadata": {
        "id": "ApUhjvdEgIPz"
      }
    },
    {
      "cell_type": "code",
      "source": [
        "# Initial condition\n",
        "beta0 = np.zeros(p)\n",
        "\n",
        "# Parameters\n",
        "nit = 10000\n",
        "lr = 1e-3\n",
        "\n",
        "# Run the gradient descent\n",
        "beta, L, hist = stoc_grad_opt(X, y, Leval_stoc, beta0, lr=lr, nit=nit)\n",
        "\n",
        "# Plot the training loss\n",
        "t = np.arange(nit)\n",
        "plt.plot(t, hist['L'])\n",
        "plt.grid()"
      ],
      "metadata": {
        "id": "qkNRvI_x9VpG",
        "colab": {
          "base_uri": "https://localhost:8080/",
          "height": 435
        },
        "outputId": "d89f8f8b-a865-4dc4-ab0f-8ce4be2141b9"
      },
      "execution_count": 24,
      "outputs": [
        {
          "output_type": "display_data",
          "data": {
            "text/plain": [
              "<Figure size 640x480 with 1 Axes>"
            ],
            "image/png": "[encoded data removed]"
          },
          "metadata": {}
        }
      ]
    },
    {
      "cell_type": "markdown",
      "source": [
        "### Stochastic Gradient Descent Comparison\n",
        "\n",
        "Rewrite your stochastic gradient descent method above to take in a number of epochs of training instead of number of iterations, and change the code so that it only computes the loss function value at the end of each epoch."
      ],
      "metadata": {
        "id": "lhfDOaFSgw4i"
      }
    },
    {
      "cell_type": "code",
      "source": [
        "def stoc_grad_opt_epoch(X, y, stoc_grad_func, beta0, lr=1e-3, nepoch=500):\n",
        "    \"\"\"\n",
        "    Simple stochastic gradient descent optimization\n",
        "\n",
        "    stoc_grad_func:  A function that returns the stochastic gradient of the loss for a given input row of X and entry of y\n",
        "    beta0:  Initial estimate for parameters beta\n",
        "    lr:     learning rate\n",
        "    nepoch: Number of epochs of training\n",
        "    \"\"\"\n",
        "\n",
        "    # Create history dictionary for tracking progress per epoch\n",
        "    hist = {'beta': [], 'L': []}\n",
        "\n",
        "    # Initialize beta\n",
        "    beta = beta0\n",
        "\n",
        "    # Loop over epochs\n",
        "    for epoch in range(nepoch):\n",
        "\n",
        "        # Randomly shuffle the data\n",
        "        indices = np.random.permutation(len(y))\n",
        "        X_shuffled = X[indices, :]\n",
        "        y_shuffled = y[indices]\n",
        "\n",
        "        # Iterate through the shuffled data to compute the stochastic gradient\n",
        "        for i in range(len(y)):\n",
        "            x_i = X_shuffled[i, :]\n",
        "            y_i = y_shuffled[i]\n",
        "\n",
        "            # Compute stochastic gradient\n",
        "            Lgrad_stoc = stoc_grad_func(beta, x_i, y_i)\n",
        "\n",
        "            # Update beta using stochastic gradient\n",
        "            beta = beta - lr * Lgrad_stoc\n",
        "\n",
        "        # Evaluate the overall loss after each epoch\n",
        "        L, _ = Leval(beta, X, y)\n",
        "\n",
        "        # Save history at the end of each epoch\n",
        "        hist['L'].append(L)\n",
        "        hist['beta'].append(beta)\n",
        "\n",
        "    # Convert to numpy arrays\n",
        "    for elem in ('L', 'beta'):\n",
        "        hist[elem] = np.array(hist[elem])\n",
        "\n",
        "    return beta, L, hist"
      ],
      "metadata": {
        "id": "LEccidChgwOV"
      },
      "execution_count": 25,
      "outputs": []
    },
    {
      "cell_type": "markdown",
      "source": [
        "Run both your stochastic gradient descent method and the standard gradient descent method with adaptive step size (`grad_opt_adapt`) for 500 epochs.\n",
        "\n",
        "Plot the loss function errors obtained at the end of each epoch. You should see that, for an appropriate choice of step size, stochastic gradient descent requires fewer epochs to reach near minimal loss in comparison to standard gradient descent. For example, the plot I obtained looked as follows:\n",
        "\n",
        "<img src=\"https://www.chrismusco.com/machinelearning2023_grad/sgd_loss.png\" width=\"500\"/>\n"
      ],
      "metadata": {
        "id": "qn6mkv-KkFTC"
      }
    },
    {
      "cell_type": "code",
      "source": [
        "# Initial condition\n",
        "beta0 = np.zeros(p)\n",
        "\n",
        "lr = 1e-3\n",
        "nepoch = 500\n",
        "\n",
        "# Run the gradient descent\n",
        "beta, L, hist = stoc_grad_opt_epoch(X, y, Leval_stoc, beta0, lr=lr, nepoch=nepoch)\n",
        "beta1, L1, hist1 = grad_opt_adapt(Leval_param, beta0, nit=nepoch, lr_init=lr)\n",
        "\n",
        "# Plot the training loss\n",
        "t = np.arange(nepoch)\n",
        "plt.plot(t, hist1['L'], label='Adaptive Gradient Descent')\n",
        "plt.plot(t, hist['L'], label='Stochastic Gradient Descent')\n",
        "plt.legend()\n",
        "plt.grid()"
      ],
      "metadata": {
        "id": "GIEJ1j5LiXBG",
        "colab": {
          "base_uri": "https://localhost:8080/",
          "height": 430
        },
        "outputId": "4cc81374-bdbf-4c56-c3e8-8776b6b6e9ea"
      },
      "execution_count": 26,
      "outputs": [
        {
          "output_type": "display_data",
          "data": {
            "text/plain": [
              "<Figure size 640x480 with 1 Axes>"
            ],
            "image/png": "[encoded data removed]"
          },
          "metadata": {}
        }
      ]
    }
  ],
  "metadata": {
    "anaconda-cloud": {},
    "kernelspec": {
      "display_name": "Python 3",
      "language": "python",
      "name": "python3"
    },
    "language_info": {
      "codemirror_mode": {
        "name": "ipython",
        "version": 3
      },
      "file_extension": ".py",
      "mimetype": "text/x-python",
      "name": "python",
      "nbconvert_exporter": "python",
      "pygments_lexer": "ipython3",
      "version": "3.7.7"
    },
    "colab": {
      "provenance": []
    }
  },
  "nbformat": 4,
  "nbformat_minor": 0
}