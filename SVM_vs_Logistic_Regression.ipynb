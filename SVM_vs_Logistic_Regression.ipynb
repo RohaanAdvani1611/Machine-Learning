{
  "cells": [
    {
      "cell_type": "markdown",
      "source": [
        "# Rohaan Advani - N19682109 - rna3535"
      ],
      "metadata": {
        "id": "kbxgFBF9KNhh"
      }
    },
    {
      "cell_type": "markdown",
      "metadata": {
        "id": "YLSs1Eby_pPk"
      },
      "source": [
        "# The SVM vs. Logistic Regression Showdown\n",
        "\n",
        "In this lab, you will practice working with non-linear kernels combined with logistic regression and SVM classifiers. The goal is to compare these commonly used techniques. Which comes out on top in terms of accuracy? Runtime? Is there much of a difference at all? Is the dominance of the SVM classifier in machine learning pedagogy justified?"
      ]
    },
    {
      "cell_type": "markdown",
      "metadata": {
        "id": "Msj5mwJs_pPl"
      },
      "source": [
        "## Loading the Data\n",
        "\n",
        "First, we load all the packages we'll need."
      ]
    },
    {
      "cell_type": "code",
      "execution_count": 1,
      "metadata": {
        "id": "5TKE1o5c_pPm"
      },
      "outputs": [],
      "source": [
        "import numpy as np\n",
        "import matplotlib\n",
        "import matplotlib.pyplot as plt\n",
        "%matplotlib inline\n",
        "from sklearn.metrics.pairwise import pairwise_kernels\n",
        "import scipy\n",
        "from sklearn import svm, linear_model\n",
        "from sklearn.model_selection import GridSearchCV\n",
        "import time"
      ]
    },
    {
      "cell_type": "markdown",
      "metadata": {
        "id": "L58cF4Cy_pPn"
      },
      "source": [
        "Again we download the data from the Tensorflow package, which you will need to install.  You can get the data from other sources as well.\n",
        "\n",
        "In the Tensorflow dataset, the training and test data are represented as arrays:\n",
        "\n",
        "     Xtr.shape = 60000 x 28 x 28\n",
        "     Xts.shape = 10000 x 28 x 28\n",
        "     \n",
        "The test data consists of `60000` images of size `28 x 28` pixels; the test data consists of `10000` images."
      ]
    },
    {
      "cell_type": "code",
      "execution_count": 2,
      "metadata": {
        "colab": {
          "base_uri": "https://localhost:8080/"
        },
        "id": "Pigfivuh_pPn",
        "outputId": "a290d60c-e9c4-4a6f-a0c8-90b4f2807e86"
      },
      "outputs": [
        {
          "output_type": "stream",
          "name": "stdout",
          "text": [
            "Downloading data from https://storage.googleapis.com/tensorflow/tf-keras-datasets/mnist.npz\n",
            "11490434/11490434 [==============================] - 0s 0us/step\n",
            "Xtr shape: (60000, 28, 28)\n",
            "Xts shape: (10000, 28, 28)\n"
          ]
        }
      ],
      "source": [
        "import tensorflow as tf\n",
        "\n",
        "(Xtr_raw,ytr),(Xts_raw,yts) = tf.keras.datasets.mnist.load_data()\n",
        "\n",
        "print('Xtr shape: %s' % str(Xtr_raw.shape))\n",
        "print('Xts shape: %s' % str(Xts_raw.shape))\n",
        "\n",
        "ntr = Xtr_raw.shape[0]\n",
        "nts = Xts_raw.shape[0]\n",
        "nrow = Xtr_raw.shape[1]\n",
        "ncol = Xtr_raw.shape[2]"
      ]
    },
    {
      "cell_type": "markdown",
      "metadata": {
        "id": "BgE5TO4b_pPo"
      },
      "source": [
        "Each pixel value is from `[0,255]`.  For this lab, it will be convenient to recale the value to -1 to 1 and reshape it as a `ntr x npix` and `nts x npix`."
      ]
    },
    {
      "cell_type": "code",
      "execution_count": 3,
      "metadata": {
        "colab": {
          "base_uri": "https://localhost:8080/"
        },
        "id": "ahZI8kazNihC",
        "outputId": "81e00daf-ad8d-4db1-d433-e604fde798f8"
      },
      "outputs": [
        {
          "output_type": "stream",
          "name": "stdout",
          "text": [
            "[  0   0   0   0   0   0   0   0   0   0   0   0   0   0   0   0   0   0\n",
            "   0   0   0   0   0   0   0   0   0   0   0   0   0   0   0   0   0   0\n",
            "   0   0   0   0   0   0   0   0   0   0   0   0   0   0   0   0   0   0\n",
            "   0   0   0   0   0   0   0   0   0   0   0   0   0   0   0   0   0   0\n",
            "   0   0   0   0   0   0   0   0   0   0   0   0   0   0   0   0   0   0\n",
            "   0   0   0   0   0   0   0   0   0   0   0   0   0   0   0   0   0   0\n",
            "   0   0   0   0   0   0   0   0   0   0   0   0   0   0   0   0   0   0\n",
            "   0  51 159 253 159  50   0   0   0   0   0   0   0   0   0   0   0   0\n",
            "   0   0   0   0   0   0   0   0   0   0  48 238 252 252 252 237   0   0\n",
            "   0   0   0   0   0   0   0   0   0   0   0   0   0   0   0   0   0   0\n",
            "   0  54 227 253 252 239 233 252  57   6   0   0   0   0   0   0   0   0\n",
            "   0   0   0   0   0   0   0   0   0  10  60 224 252 253 252 202  84 252\n",
            " 253 122   0   0   0   0   0   0   0   0   0   0   0   0   0   0   0   0\n",
            "   0 163 252 252 252 253 252 252  96 189 253 167   0   0   0   0   0   0\n",
            "   0   0   0   0   0   0   0   0   0   0  51 238 253 253 190 114 253 228\n",
            "  47  79 255 168   0   0   0   0   0   0   0   0   0   0   0   0   0   0\n",
            "   0  48 238 252 252 179  12  75 121  21   0   0 253 243  50   0   0   0\n",
            "   0   0   0   0   0   0   0   0   0   0  38 165 253 233 208  84   0   0\n",
            "   0   0   0   0 253 252 165   0   0   0   0   0   0   0   0   0   0   0\n",
            "   0   7 178 252 240  71  19  28   0   0   0   0   0   0 253 252 195   0\n",
            "   0   0   0   0   0   0   0   0   0   0   0  57 252 252  63   0   0   0\n",
            "   0   0   0   0   0   0 253 252 195   0   0   0   0   0   0   0   0   0\n",
            "   0   0   0 198 253 190   0   0   0   0   0   0   0   0   0   0 255 253\n",
            " 196   0   0   0   0   0   0   0   0   0   0   0  76 246 252 112   0   0\n",
            "   0   0   0   0   0   0   0   0 253 252 148   0   0   0   0   0   0   0\n",
            "   0   0   0   0  85 252 230  25   0   0   0   0   0   0   0   0   7 135\n",
            " 253 186  12   0   0   0   0   0   0   0   0   0   0   0  85 252 223   0\n",
            "   0   0   0   0   0   0   0   7 131 252 225  71   0   0   0   0   0   0\n",
            "   0   0   0   0   0   0  85 252 145   0   0   0   0   0   0   0  48 165\n",
            " 252 173   0   0   0   0   0   0   0   0   0   0   0   0   0   0  86 253\n",
            " 225   0   0   0   0   0   0 114 238 253 162   0   0   0   0   0   0   0\n",
            "   0   0   0   0   0   0   0   0  85 252 249 146  48  29  85 178 225 253\n",
            " 223 167  56   0   0   0   0   0   0   0   0   0   0   0   0   0   0   0\n",
            "  85 252 252 252 229 215 252 252 252 196 130   0   0   0   0   0   0   0\n",
            "   0   0   0   0   0   0   0   0   0   0  28 199 252 252 253 252 252 233\n",
            " 145   0   0   0   0   0   0   0   0   0   0   0   0   0   0   0   0   0\n",
            "   0   0   0  25 128 252 253 252 141  37   0   0   0   0   0   0   0   0\n",
            "   0   0   0   0   0   0   0   0   0   0   0   0   0   0   0   0   0   0\n",
            "   0   0   0   0   0   0   0   0   0   0   0   0   0   0   0   0   0   0\n",
            "   0   0   0   0   0   0   0   0   0   0   0   0   0   0   0   0   0   0\n",
            "   0   0   0   0   0   0   0   0   0   0   0   0   0   0   0   0   0   0\n",
            "   0   0   0   0   0   0   0   0   0   0   0   0   0   0   0   0   0   0\n",
            "   0   0   0   0   0   0   0   0   0   0   0   0   0   0   0   0   0   0\n",
            "   0   0   0   0   0   0   0   0   0   0]\n",
            "[-0.5        -0.5        -0.5        -0.5        -0.5        -0.5\n",
            " -0.5        -0.5        -0.5        -0.5        -0.5        -0.5\n",
            " -0.5        -0.5        -0.5        -0.5        -0.5        -0.5\n",
            " -0.5        -0.5        -0.5        -0.5        -0.5        -0.5\n",
            " -0.5        -0.5        -0.5        -0.5        -0.5        -0.5\n",
            " -0.5        -0.5        -0.5        -0.5        -0.5        -0.5\n",
            " -0.5        -0.5        -0.5        -0.5        -0.5        -0.5\n",
            " -0.5        -0.5        -0.5        -0.5        -0.5        -0.5\n",
            " -0.5        -0.5        -0.5        -0.5        -0.5        -0.5\n",
            " -0.5        -0.5        -0.5        -0.5        -0.5        -0.5\n",
            " -0.5        -0.5        -0.5        -0.5        -0.5        -0.5\n",
            " -0.5        -0.5        -0.5        -0.5        -0.5        -0.5\n",
            " -0.5        -0.5        -0.5        -0.5        -0.5        -0.5\n",
            " -0.5        -0.5        -0.5        -0.5        -0.5        -0.5\n",
            " -0.5        -0.5        -0.5        -0.5        -0.5        -0.5\n",
            " -0.5        -0.5        -0.5        -0.5        -0.5        -0.5\n",
            " -0.5        -0.5        -0.5        -0.5        -0.5        -0.5\n",
            " -0.5        -0.5        -0.5        -0.5        -0.5        -0.5\n",
            " -0.5        -0.5        -0.5        -0.5        -0.5        -0.5\n",
            " -0.5        -0.5        -0.5        -0.5        -0.5        -0.5\n",
            " -0.5        -0.5        -0.5        -0.5        -0.5        -0.5\n",
            " -0.5        -0.3         0.12352941  0.49215686  0.12352941 -0.30392157\n",
            " -0.5        -0.5        -0.5        -0.5        -0.5        -0.5\n",
            " -0.5        -0.5        -0.5        -0.5        -0.5        -0.5\n",
            " -0.5        -0.5        -0.5        -0.5        -0.5        -0.5\n",
            " -0.5        -0.5        -0.5        -0.5        -0.31176471  0.43333333\n",
            "  0.48823529  0.48823529  0.48823529  0.42941176 -0.5        -0.5\n",
            " -0.5        -0.5        -0.5        -0.5        -0.5        -0.5\n",
            " -0.5        -0.5        -0.5        -0.5        -0.5        -0.5\n",
            " -0.5        -0.5        -0.5        -0.5        -0.5        -0.5\n",
            " -0.5        -0.28823529  0.39019608  0.49215686  0.48823529  0.4372549\n",
            "  0.41372549  0.48823529 -0.27647059 -0.47647059 -0.5        -0.5\n",
            " -0.5        -0.5        -0.5        -0.5        -0.5        -0.5\n",
            " -0.5        -0.5        -0.5        -0.5        -0.5        -0.5\n",
            " -0.5        -0.5        -0.5        -0.46078431 -0.26470588  0.37843137\n",
            "  0.48823529  0.49215686  0.48823529  0.29215686 -0.17058824  0.48823529\n",
            "  0.49215686 -0.02156863 -0.5        -0.5        -0.5        -0.5\n",
            " -0.5        -0.5        -0.5        -0.5        -0.5        -0.5\n",
            " -0.5        -0.5        -0.5        -0.5        -0.5        -0.5\n",
            " -0.5         0.13921569  0.48823529  0.48823529  0.48823529  0.49215686\n",
            "  0.48823529  0.48823529 -0.12352941  0.24117647  0.49215686  0.15490196\n",
            " -0.5        -0.5        -0.5        -0.5        -0.5        -0.5\n",
            " -0.5        -0.5        -0.5        -0.5        -0.5        -0.5\n",
            " -0.5        -0.5        -0.5        -0.5        -0.3         0.43333333\n",
            "  0.49215686  0.49215686  0.24509804 -0.05294118  0.49215686  0.39411765\n",
            " -0.31568627 -0.19019608  0.5         0.15882353 -0.5        -0.5\n",
            " -0.5        -0.5        -0.5        -0.5        -0.5        -0.5\n",
            " -0.5        -0.5        -0.5        -0.5        -0.5        -0.5\n",
            " -0.5        -0.31176471  0.43333333  0.48823529  0.48823529  0.20196078\n",
            " -0.45294118 -0.20588235 -0.0254902  -0.41764706 -0.5        -0.5\n",
            "  0.49215686  0.45294118 -0.30392157 -0.5        -0.5        -0.5\n",
            " -0.5        -0.5        -0.5        -0.5        -0.5        -0.5\n",
            " -0.5        -0.5        -0.5        -0.5        -0.35098039  0.14705882\n",
            "  0.49215686  0.41372549  0.31568627 -0.17058824 -0.5        -0.5\n",
            " -0.5        -0.5        -0.5        -0.5         0.49215686  0.48823529\n",
            "  0.14705882 -0.5        -0.5        -0.5        -0.5        -0.5\n",
            " -0.5        -0.5        -0.5        -0.5        -0.5        -0.5\n",
            " -0.5        -0.47254902  0.19803922  0.48823529  0.44117647 -0.22156863\n",
            " -0.4254902  -0.39019608 -0.5        -0.5        -0.5        -0.5\n",
            " -0.5        -0.5         0.49215686  0.48823529  0.26470588 -0.5\n",
            " -0.5        -0.5        -0.5        -0.5        -0.5        -0.5\n",
            " -0.5        -0.5        -0.5        -0.5        -0.5        -0.27647059\n",
            "  0.48823529  0.48823529 -0.25294118 -0.5        -0.5        -0.5\n",
            " -0.5        -0.5        -0.5        -0.5        -0.5        -0.5\n",
            "  0.49215686  0.48823529  0.26470588 -0.5        -0.5        -0.5\n",
            " -0.5        -0.5        -0.5        -0.5        -0.5        -0.5\n",
            " -0.5        -0.5        -0.5         0.27647059  0.49215686  0.24509804\n",
            " -0.5        -0.5        -0.5        -0.5        -0.5        -0.5\n",
            " -0.5        -0.5        -0.5        -0.5         0.5         0.49215686\n",
            "  0.26862745 -0.5        -0.5        -0.5        -0.5        -0.5\n",
            " -0.5        -0.5        -0.5        -0.5        -0.5        -0.5\n",
            " -0.20196078  0.46470588  0.48823529 -0.06078431 -0.5        -0.5\n",
            " -0.5        -0.5        -0.5        -0.5        -0.5        -0.5\n",
            " -0.5        -0.5         0.49215686  0.48823529  0.08039216 -0.5\n",
            " -0.5        -0.5        -0.5        -0.5        -0.5        -0.5\n",
            " -0.5        -0.5        -0.5        -0.5        -0.16666667  0.48823529\n",
            "  0.40196078 -0.40196078 -0.5        -0.5        -0.5        -0.5\n",
            " -0.5        -0.5        -0.5        -0.5        -0.47254902  0.02941176\n",
            "  0.49215686  0.22941176 -0.45294118 -0.5        -0.5        -0.5\n",
            " -0.5        -0.5        -0.5        -0.5        -0.5        -0.5\n",
            " -0.5        -0.5        -0.16666667  0.48823529  0.3745098  -0.5\n",
            " -0.5        -0.5        -0.5        -0.5        -0.5        -0.5\n",
            " -0.5        -0.47254902  0.01372549  0.48823529  0.38235294 -0.22156863\n",
            " -0.5        -0.5        -0.5        -0.5        -0.5        -0.5\n",
            " -0.5        -0.5        -0.5        -0.5        -0.5        -0.5\n",
            " -0.16666667  0.48823529  0.06862745 -0.5        -0.5        -0.5\n",
            " -0.5        -0.5        -0.5        -0.5        -0.31176471  0.14705882\n",
            "  0.48823529  0.17843137 -0.5        -0.5        -0.5        -0.5\n",
            " -0.5        -0.5        -0.5        -0.5        -0.5        -0.5\n",
            " -0.5        -0.5        -0.5        -0.5        -0.1627451   0.49215686\n",
            "  0.38235294 -0.5        -0.5        -0.5        -0.5        -0.5\n",
            " -0.5        -0.05294118  0.43333333  0.49215686  0.13529412 -0.5\n",
            " -0.5        -0.5        -0.5        -0.5        -0.5        -0.5\n",
            " -0.5        -0.5        -0.5        -0.5        -0.5        -0.5\n",
            " -0.5        -0.5        -0.16666667  0.48823529  0.47647059  0.07254902\n",
            " -0.31176471 -0.38627451 -0.16666667  0.19803922  0.38235294  0.49215686\n",
            "  0.3745098   0.15490196 -0.28039216 -0.5        -0.5        -0.5\n",
            " -0.5        -0.5        -0.5        -0.5        -0.5        -0.5\n",
            " -0.5        -0.5        -0.5        -0.5        -0.5        -0.5\n",
            " -0.16666667  0.48823529  0.48823529  0.48823529  0.39803922  0.34313725\n",
            "  0.48823529  0.48823529  0.48823529  0.26862745  0.00980392 -0.5\n",
            " -0.5        -0.5        -0.5        -0.5        -0.5        -0.5\n",
            " -0.5        -0.5        -0.5        -0.5        -0.5        -0.5\n",
            " -0.5        -0.5        -0.5        -0.5        -0.39019608  0.28039216\n",
            "  0.48823529  0.48823529  0.49215686  0.48823529  0.48823529  0.41372549\n",
            "  0.06862745 -0.5        -0.5        -0.5        -0.5        -0.5\n",
            " -0.5        -0.5        -0.5        -0.5        -0.5        -0.5\n",
            " -0.5        -0.5        -0.5        -0.5        -0.5        -0.5\n",
            " -0.5        -0.5        -0.5        -0.40196078  0.00196078  0.48823529\n",
            "  0.49215686  0.48823529  0.05294118 -0.35490196 -0.5        -0.5\n",
            " -0.5        -0.5        -0.5        -0.5        -0.5        -0.5\n",
            " -0.5        -0.5        -0.5        -0.5        -0.5        -0.5\n",
            " -0.5        -0.5        -0.5        -0.5        -0.5        -0.5\n",
            " -0.5        -0.5        -0.5        -0.5        -0.5        -0.5\n",
            " -0.5        -0.5        -0.5        -0.5        -0.5        -0.5\n",
            " -0.5        -0.5        -0.5        -0.5        -0.5        -0.5\n",
            " -0.5        -0.5        -0.5        -0.5        -0.5        -0.5\n",
            " -0.5        -0.5        -0.5        -0.5        -0.5        -0.5\n",
            " -0.5        -0.5        -0.5        -0.5        -0.5        -0.5\n",
            " -0.5        -0.5        -0.5        -0.5        -0.5        -0.5\n",
            " -0.5        -0.5        -0.5        -0.5        -0.5        -0.5\n",
            " -0.5        -0.5        -0.5        -0.5        -0.5        -0.5\n",
            " -0.5        -0.5        -0.5        -0.5        -0.5        -0.5\n",
            " -0.5        -0.5        -0.5        -0.5        -0.5        -0.5\n",
            " -0.5        -0.5        -0.5        -0.5        -0.5        -0.5\n",
            " -0.5        -0.5        -0.5        -0.5        -0.5        -0.5\n",
            " -0.5        -0.5        -0.5        -0.5        -0.5        -0.5\n",
            " -0.5        -0.5        -0.5        -0.5        -0.5        -0.5\n",
            " -0.5        -0.5        -0.5        -0.5        -0.5        -0.5\n",
            " -0.5        -0.5        -0.5        -0.5        -0.5        -0.5\n",
            " -0.5        -0.5        -0.5        -0.5       ]\n"
          ]
        }
      ],
      "source": [
        "npix = nrow*ncol\n",
        "Xtr = Xtr_raw.reshape((ntr,npix))\n",
        "print(Xtr[1,:])\n",
        "Xtr = (Xtr/255 - .5)\n",
        "print(Xtr[1,:])"
      ]
    },
    {
      "cell_type": "code",
      "execution_count": 4,
      "metadata": {
        "id": "QE-50PdU_pPo"
      },
      "outputs": [],
      "source": [
        "npix = nrow*ncol\n",
        "Xtr = (Xtr_raw/255 - 0.5)\n",
        "Xtr = Xtr.reshape((ntr,npix))\n",
        "\n",
        "Xts = (Xts_raw/255 - 0.5)\n",
        "Xts = Xts.reshape((nts,npix))"
      ]
    },
    {
      "cell_type": "code",
      "execution_count": 5,
      "metadata": {
        "colab": {
          "base_uri": "https://localhost:8080/"
        },
        "id": "LqDWXC9yN6JH",
        "outputId": "82547b18-58ea-4d21-faa8-e986074a0f91"
      },
      "outputs": [
        {
          "output_type": "stream",
          "name": "stdout",
          "text": [
            "[[-0.5 -0.5 -0.5 ... -0.5 -0.5 -0.5]\n",
            " [-0.5 -0.5 -0.5 ... -0.5 -0.5 -0.5]\n",
            " [-0.5 -0.5 -0.5 ... -0.5 -0.5 -0.5]\n",
            " ...\n",
            " [-0.5 -0.5 -0.5 ... -0.5 -0.5 -0.5]\n",
            " [-0.5 -0.5 -0.5 ... -0.5 -0.5 -0.5]\n",
            " [-0.5 -0.5 -0.5 ... -0.5 -0.5 -0.5]]\n"
          ]
        }
      ],
      "source": [
        "print(Xtr)"
      ]
    },
    {
      "cell_type": "markdown",
      "metadata": {
        "id": "frhehbKs_pPo"
      },
      "source": [
        "For this lab we're only going to use a fraction of the MNIST data -- otherwise our models will take too much time and memory to run. Using only part of the training data will of course lead to worse results. Given enough computational resources and time, we would ideally be running on the full data set. The follow code creates a new test and train set, with 10000 examples for train and 5000 for test."
      ]
    },
    {
      "cell_type": "code",
      "execution_count": 6,
      "metadata": {
        "id": "cUHbBwL1_pPp"
      },
      "outputs": [],
      "source": [
        "ntr1 = 10000\n",
        "nts1 = 5000\n",
        "Iperm = np.random.permutation(ntr1)\n",
        "Xtr1 = Xtr[Iperm[:ntr1],:]\n",
        "ytr1 = ytr[Iperm[:ntr1]]\n",
        "Iperm = np.random.permutation(nts1)\n",
        "Xts1 = Xts[Iperm[:nts1],:]\n",
        "yts1 = yts[Iperm[:nts1]]"
      ]
    },
    {
      "cell_type": "markdown",
      "metadata": {
        "id": "mlz6g-X8_pPq"
      },
      "source": [
        "## Problem set up and establishing a baseline"
      ]
    },
    {
      "cell_type": "markdown",
      "metadata": {
        "id": "T90pjHcr_pPq"
      },
      "source": [
        "To simplify the problem (and speed things up) we're also going to restrict to binary classification. In particular, let's try to design classifier a that separates the 8's from all other digits.\n",
        "\n",
        "Create binary 0/1 label vectors `ytr8` and `yts8` which are 1 wherever `ytr1` and `yts1` equal 8, and 0 everywhere else."
      ]
    },
    {
      "cell_type": "code",
      "execution_count": 7,
      "metadata": {
        "id": "q6Flo-KS_pPq"
      },
      "outputs": [],
      "source": [
        "ytr8 = np.where(ytr1 == 8, 1, 0)\n",
        "yts8 = np.where(yts1 == 8, 1, 0)"
      ]
    },
    {
      "cell_type": "markdown",
      "metadata": {
        "id": "UdT2KGyj_pPr"
      },
      "source": [
        "Most of the digits in the test dataset aren't equal to 8. So if we simply guess 0 for every image in `Xts`, we might expect to get classification accuracy around 90%. Our goal should be to significantly beat this **baseline**.\n",
        "\n",
        "Formally, write a few lines of code to check what test error would be achieved by the all zeros classifier."
      ]
    },
    {
      "cell_type": "code",
      "execution_count": 8,
      "metadata": {
        "colab": {
          "base_uri": "https://localhost:8080/"
        },
        "id": "3JweYada_pPr",
        "outputId": "b6635d37-e0cb-4c7d-ee48-bb67b9f2dc31"
      },
      "outputs": [
        {
          "output_type": "stream",
          "name": "stdout",
          "text": [
            "Accuaracy = 90.220000%\n"
          ]
        }
      ],
      "source": [
        "# Calculate the accuracy of the all-zeros classifier\n",
        "pred_zeros = np.zeros_like(yts8)\n",
        "acc = np.mean(pred_zeros == yts8)\n",
        "print('Accuaracy = {0:f}%'.format(acc * 100))"
      ]
    },
    {
      "cell_type": "markdown",
      "metadata": {
        "id": "oz_7u10V_pPr"
      },
      "source": [
        "As a second baseline, let's see how we do with standard (non-kernel) logistic regression. As in the MNIST demo, you can use `scikit-learn`'s built in function `linear_model.LogisticRegression` to fit the model and compute the accuracy. Use no regularization and the `lbfgs` solver. You should acheive an improvement to around 93-95%."
      ]
    },
    {
      "cell_type": "code",
      "execution_count": 9,
      "metadata": {
        "colab": {
          "base_uri": "https://localhost:8080/"
        },
        "id": "oocR_r9C_pPr",
        "outputId": "a9463657-6a59-4096-dc91-7f60a20b863f"
      },
      "outputs": [
        {
          "output_type": "stream",
          "name": "stderr",
          "text": [
            "/usr/local/lib/python3.10/dist-packages/sklearn/linear_model/_logistic.py:1173: FutureWarning: `penalty='none'`has been deprecated in 1.2 and will be removed in 1.4. To keep the past behaviour, set `penalty=None`.\n",
            "  warnings.warn(\n"
          ]
        },
        {
          "output_type": "stream",
          "name": "stdout",
          "text": [
            "Logistic Regression Accuracy = 94.100000%\n"
          ]
        },
        {
          "output_type": "stream",
          "name": "stderr",
          "text": [
            "/usr/local/lib/python3.10/dist-packages/sklearn/linear_model/_logistic.py:458: ConvergenceWarning: lbfgs failed to converge (status=1):\n",
            "STOP: TOTAL NO. of ITERATIONS REACHED LIMIT.\n",
            "\n",
            "Increase the number of iterations (max_iter) or scale the data as shown in:\n",
            "    https://scikit-learn.org/stable/modules/preprocessing.html\n",
            "Please also refer to the documentation for alternative solver options:\n",
            "    https://scikit-learn.org/stable/modules/linear_model.html#logistic-regression\n",
            "  n_iter_i = _check_optimize_result(\n"
          ]
        }
      ],
      "source": [
        "from sklearn.linear_model import LogisticRegression\n",
        "\n",
        "logistic_model = LogisticRegression(penalty='none', solver='lbfgs')\n",
        "logistic_model.fit(Xtr1, ytr8)\n",
        "\n",
        "pred_logistic = logistic_model.predict(Xts1)\n",
        "acc = np.mean(pred_logistic == yts8)\n",
        "print('Logistic Regression Accuracy = {0:f}%'.format(acc * 100))"
      ]
    },
    {
      "cell_type": "markdown",
      "metadata": {
        "id": "aXuJVilo_pPr"
      },
      "source": [
        "## Kernel Logistic Regression\n",
        "\n",
        "To improve on this baseline performance, let's try using the logistic regression classifier with a *non-linear* kernel. Recall from class that any non-linear kernel similarity function $k(\\vec{w},\\vec{z})$ is equal to $\\phi(\\vec{w})^T\\phi(\\vec{z})$ for some feature transformation $\\phi$. However, we typically do not need to compute this feature tranformation explicitly: instead we can work directly with the kernel gram matrix $K \\in \\mathbb{R}^{n\\times n}$. Recall that $K_{i,j} = k(\\vec{x}_i,\\vec{x}_j)$ where $\\vec{x}_i$ is the $i^\\text{th}$ training data point.\n",
        "\n",
        "For this lab we will be using the radial basis function kernel. For a given scaling factor $\\gamma$ this kernel is defined as:\n",
        "$$\n",
        "k(\\vec{w},\\vec{z}) = e^{-\\gamma\\|\\vec{w}-\\vec{z}\\|_2^2}\n",
        "$$"
      ]
    },
    {
      "cell_type": "code",
      "execution_count": 10,
      "metadata": {
        "id": "q8znIoWi_pPs"
      },
      "outputs": [],
      "source": [
        "def rbf_kernel(w,z,gamma):\n",
        "    d = w - z\n",
        "    return np.exp(-gamma*np.sum(d*d))"
      ]
    },
    {
      "cell_type": "markdown",
      "metadata": {
        "id": "1WFi15JF_pPs"
      },
      "source": [
        "Construct the kernel matrix `K1` for `Xtr1` with `gamma = .05`."
      ]
    },
    {
      "cell_type": "code",
      "execution_count": 11,
      "metadata": {
        "colab": {
          "base_uri": "https://localhost:8080/"
        },
        "id": "9PBzA-5__pPs",
        "outputId": "25d4725b-8ed9-4c48-8155-9f218ba48daf"
      },
      "outputs": [
        {
          "output_type": "stream",
          "name": "stdout",
          "text": [
            "[[1.         0.00288793 0.01608046 ... 0.00583719 0.01482722 0.01056562]\n",
            " [0.00288793 1.         0.00140932 ... 0.00224628 0.00452842 0.00175463]\n",
            " [0.01608046 0.00140932 1.         ... 0.01016976 0.03766971 0.00323562]\n",
            " ...\n",
            " [0.00583719 0.00224628 0.01016976 ... 1.         0.05440837 0.00530254]\n",
            " [0.01482722 0.00452842 0.03766971 ... 0.05440837 1.         0.00223219]\n",
            " [0.01056562 0.00175463 0.00323562 ... 0.00530254 0.00223219 1.        ]]\n"
          ]
        }
      ],
      "source": [
        "gamma = 0.05\n",
        "n_tr1 = Xtr1.shape[0]\n",
        "K1 = np.zeros((n_tr1, n_tr1))\n",
        "\n",
        "for i in range(n_tr1):\n",
        "    for j in range(n_tr1):\n",
        "        K1[i, j] = rbf_kernel(Xtr1[i], Xtr1[j], gamma)\n",
        "print(K1)"
      ]
    },
    {
      "cell_type": "markdown",
      "metadata": {
        "id": "wB_X-JOR_pPs"
      },
      "source": [
        "If you used a for loop (which is fine) your code might take several minutes to run! Part of the issue is that Python won't know to properly parallize your for loop. For this reason, when constructing kernel matrices it is often faster to us a built-in, carefully optimized function with explicit parallelization. Scikit learn provides such a function through their `metrics` library.\n",
        "\n",
        "Referring to the documentation here\n",
        "https://scikit-learn.org/stable/modules/metrics.html#metrics, use this built in function to recreate the same kernel matrix you did above. Store the result at `K`."
      ]
    },
    {
      "cell_type": "code",
      "execution_count": 12,
      "metadata": {
        "id": "Nhd-xFsn_pPt",
        "colab": {
          "base_uri": "https://localhost:8080/"
        },
        "outputId": "5dce0984-3eac-448a-d695-285d3bf8f5d0"
      },
      "outputs": [
        {
          "output_type": "stream",
          "name": "stdout",
          "text": [
            "[[1.         0.00288793 0.01608046 ... 0.00583719 0.01482722 0.01056562]\n",
            " [0.00288793 1.         0.00140932 ... 0.00224628 0.00452842 0.00175463]\n",
            " [0.01608046 0.00140932 1.         ... 0.01016976 0.03766971 0.00323562]\n",
            " ...\n",
            " [0.00583719 0.00224628 0.01016976 ... 1.         0.05440837 0.00530254]\n",
            " [0.01482722 0.00452842 0.03766971 ... 0.05440837 1.         0.00223219]\n",
            " [0.01056562 0.00175463 0.00323562 ... 0.00530254 0.00223219 1.        ]]\n"
          ]
        }
      ],
      "source": [
        "from sklearn.metrics.pairwise import pairwise_kernels\n",
        "\n",
        "gamma = 0.05\n",
        "K = pairwise_kernels(Xtr1, metric='rbf', gamma=gamma)\n",
        "print(K)"
      ]
    },
    {
      "cell_type": "markdown",
      "metadata": {
        "id": "CO9CnBbN_pPt"
      },
      "source": [
        "Check that you used the function correctly by writing code to confirm that `K = K1`, or at least that the two are equal up to very small differences (which could arise due to numerical precision issues). Try to do this **without a for loop** for full credit. You will get partial credit if you use a for loop."
      ]
    },
    {
      "cell_type": "code",
      "execution_count": 13,
      "metadata": {
        "colab": {
          "base_uri": "https://localhost:8080/"
        },
        "id": "SCOfrRRD_pPt",
        "outputId": "6fb35162-f8f4-4612-c20a-f46803d64c39"
      },
      "outputs": [
        {
          "output_type": "stream",
          "name": "stdout",
          "text": [
            "The kernel matrices K and K1 are equal up to very small differences.\n"
          ]
        }
      ],
      "source": [
        "diff_matrix = np.abs(K - K1)\n",
        "\n",
        "# Check if the maximum absolute difference is below a small threshold\n",
        "threshold = 1e-6\n",
        "max_diff = np.max(diff_matrix)\n",
        "\n",
        "if max_diff < threshold:\n",
        "    print(\"The kernel matrices K and K1 are equal up to very small differences.\")\n",
        "else:\n",
        "    print(\"The kernel matrices K and K1 are not equal up to the specified threshold.\")"
      ]
    },
    {
      "cell_type": "markdown",
      "metadata": {
        "id": "jrIT1xJL_pPt"
      },
      "source": [
        "When using a non-linear kernel, it is important to check that you have chosen reasonable parameters (in our case the only parameter is `gamma`). We typically do not want $k(\\vec{x}_i,\\vec{x}_j)$ to be either negligably small, or very large for all $i\\neq j$ in our data set, or we won't be able to learn anything. For the RBF kernel this means that, for any $\\vec{x}_i$ we don't want $k(\\vec{x}_i,\\vec{x}_j)$ very close to 1 (e.g. .9999) for all $j$, or very close to $0$ (e.g. 1e-8) for all $j$.\n",
        "\n",
        "Let's just check that we're in good shape for the first data vector $\\vec{x}_0$. Do so by printing out the 10 largest and 10 smallest values of $k(\\vec{x}_0,\\vec{x}_j)$ for $j\\neq 0$. Note that we always have $k(\\vec{x}_0,\\vec{x}_0) = 1$ for the RBF kernel."
      ]
    },
    {
      "cell_type": "code",
      "execution_count": 14,
      "metadata": {
        "colab": {
          "base_uri": "https://localhost:8080/"
        },
        "id": "z2yZ-vdt_pPt",
        "outputId": "ba1d761e-c2ae-4931-e8aa-c1e1561b78a5"
      },
      "outputs": [
        {
          "output_type": "stream",
          "name": "stdout",
          "text": [
            "Maximum similarities: \n",
            " [0.58036747 0.58607181 0.59000335 0.59983242 0.60170194 0.60711112\n",
            " 0.61189479 0.61683804 0.65094391 0.72168309]\n",
            "Minimum similarities: \n",
            " [4.49645784e-05 4.53226708e-05 4.89093250e-05 5.85876553e-05\n",
            " 5.94204585e-05 6.39691039e-05 6.48993585e-05 6.67168215e-05\n",
            " 7.03508720e-05 7.25316246e-05]\n"
          ]
        }
      ],
      "source": [
        "# Find the kernel values for the first data vector x_0\n",
        "k_x0 = K[0, 1:]  # Exclude the diagonal element k(x_0, x_0)\n",
        "\n",
        "# Find the indices of the 10 largest and 10 smallest values\n",
        "largest_indices = np.argsort(k_x0)[-10:]\n",
        "smallest_indices = np.argsort(k_x0)[:10]\n",
        "print('Maximum similarities: \\n', k_x0[largest_indices])\n",
        "print('Minimum similarities: \\n', k_x0[smallest_indices])"
      ]
    },
    {
      "cell_type": "markdown",
      "metadata": {
        "id": "B0Vfxdfu_pPu"
      },
      "source": [
        "### Implementation\n",
        "Maybe surprisingly Scikit learn does not have an implementation for kernel logistic regression. So we have to implement our own!\n",
        "\n",
        "Write a function function `log_fit` that minimizes the $\\ell_2$-regularized logisitic regression loss:\n",
        "$$\n",
        "L(\\boldsymbol{\\alpha}) =\\sum_{i=1}^n (1-y_i)(\\phi(\\mathbf{x}_i)^T\\phi(\\mathbf{X})^T\\vec{\\alpha}) - \\log(h(\\phi(\\mathbf{x}_i)^T\\phi(\\mathbf{X})^T\\boldsymbol{\\alpha}) + \\lambda \\|\\phi(\\mathbf{X})^T\\boldsymbol{\\alpha}\\|_2^2.\n",
        "$$\n",
        "As input it takes an $n\\times n$ kernel matrix $K$ for the training data, an $n$ length vector `y` of binary class labels, and regularization parameter `lamb`.\n",
        "\n",
        "To implement your function you can either use your own implmentation of gradient descent or used a built in minimizer from `scipy.optimize.minimize`. I recommend the later approach: as we saw in the last lab, gradient descent can converge slowly for this objective."
      ]
    },
    {
      "cell_type": "code",
      "source": [
        "from scipy.optimize import minimize\n",
        "\n",
        "def log_fit(K,y,lamb,nit=1000):\n",
        "\n",
        "  def objective(alpha):\n",
        "    z = K @ alpha\n",
        "    h = 1 / (1 + np.exp(-z))\n",
        "    loss = np.sum((1 - y) * z - np.log(h)) + lamb * alpha.T @ K @ alpha\n",
        "    return loss\n",
        "\n",
        "  def gradient(alpha):\n",
        "    z = K @ alpha\n",
        "    h = 1 / (1 + np.exp(-z))\n",
        "    grad = K.T @ (h - y) + 2 * lamb * K @ alpha\n",
        "    return grad\n",
        "\n",
        "  alpha = np.zeros(K.shape[0])\n",
        "\n",
        "  result = minimize(objective, alpha, method='L-BFGS-B', jac=gradient, options={'maxiter': nit})\n",
        "  return result.x"
      ],
      "metadata": {
        "id": "YCyjbe450W19"
      },
      "execution_count": 15,
      "outputs": []
    },
    {
      "cell_type": "markdown",
      "metadata": {
        "id": "PC4MZYmXMAmY"
      },
      "source": [
        "Use the `log_fit` function defined above to find parameters `alpha` for the kernel logistic regression model using `lamb = 0` and `K` as constructed above (with `gamma = .05`)."
      ]
    },
    {
      "cell_type": "code",
      "execution_count": 16,
      "metadata": {
        "colab": {
          "base_uri": "https://localhost:8080/"
        },
        "id": "bNW1cYbjMBwj",
        "outputId": "9d586fa6-127a-45fd-e40c-3d9aac36dff0"
      },
      "outputs": [
        {
          "output_type": "stream",
          "name": "stdout",
          "text": [
            "[ 3.93429526 -3.09204208 -1.66931489 ... 29.24373634  9.06654502\n",
            "  4.28038612]\n"
          ]
        }
      ],
      "source": [
        "lamb = 0\n",
        "alpha = log_fit(K, ytr8, lamb)\n",
        "print(alpha)"
      ]
    },
    {
      "cell_type": "markdown",
      "metadata": {
        "id": "VZXI3kz2_pPu"
      },
      "source": [
        "Suppose we have a test dataset with $m$ examples $\\vec{w}_1,\\ldots, \\vec{w}_m$. Once we obtain a coefficient vector $\\alpha$, making predictions for any $\\vec{w}_j$ in the test set requires computing:\n",
        "$$\n",
        "{y}_{j} = \\sum_{i=1}^n \\alpha_i \\cdot k(\\vec{w}_{j}, \\vec{x}_i).\n",
        "$$\n",
        "where $\\vec{x}_1, \\ldots \\vec{x}_n$ are our training data vectors. We classify $\\vec{w}_{j}$ in class 0 if ${y}_{j} \\leq 0$ and in class 1 if ${y}_{j} > 0$.\n",
        "\n",
        "This computation can be rewritten in matrix form as follows:\n",
        "$$\n",
        "\\vec{y}_{test} = K_{test}\\vec{\\alpha},\n",
        "$$\n",
        "where $\\vec{y}_{text}$ is an $m$ length vector and $K_{test}$ is a $m\\times n$ matrix whose $(j,i)$ entry is equal to $k(\\vec{w}_{j}, \\vec{x}_i)$. We classify $\\vec{w}_{j}$ in class 0 if $\\vec{y}_{test}[j] \\leq 0$ and in class 1 if $\\vec{y}_{test}[j] > 0$.\n"
      ]
    },
    {
      "cell_type": "markdown",
      "metadata": {
        "id": "U6BhIPrH_pPv"
      },
      "source": [
        "Use the `pairwise_kernels` function to construct $K_{test}$. Then make predictions for the test set and evaluate the accuracy of our kernel logistic regression classifier. You should see a pretty substantial lift in accuracy to around $97\\%$"
      ]
    },
    {
      "cell_type": "code",
      "execution_count": 17,
      "metadata": {
        "id": "KA6EwssY_pPv"
      },
      "outputs": [],
      "source": [
        "Ktest = pairwise_kernels(Xts1, Xtr1, metric='rbf', gamma=gamma)"
      ]
    },
    {
      "cell_type": "code",
      "execution_count": 18,
      "metadata": {
        "colab": {
          "base_uri": "https://localhost:8080/"
        },
        "id": "GrAoBfvK_pPv",
        "outputId": "1ba4ea36-045b-4215-b4c9-651c9bf2f900"
      },
      "outputs": [
        {
          "output_type": "stream",
          "name": "stdout",
          "text": [
            "Test Accuracy = 97.980000%\n"
          ]
        }
      ],
      "source": [
        "yhat = np.sign(Ktest.dot(alpha))\n",
        "\n",
        "# Convert predictions to 0/1 labels\n",
        "yhat_binary = (yhat > 0).astype(int)\n",
        "acc = np.mean(yhat_binary == yts8)\n",
        "print('Test Accuracy = {0:f}%'.format(acc * 100))"
      ]
    },
    {
      "cell_type": "markdown",
      "metadata": {
        "id": "l2SO0yhM_pPv"
      },
      "source": [
        "## Kernel Support Vector Machine"
      ]
    },
    {
      "cell_type": "markdown",
      "metadata": {
        "id": "o9x1jZnh_pPv"
      },
      "source": [
        "The goal of this lab is to compare Kernel Logistic Regression to Kernel Support Vector machines. Following `demo_mnist_svm.ipynb` create and train an SVM classifier on `Xtr1` and `ytr8` using an RBF kernel with `gamma = .05` (the same value we used for logistic regression aboe). Use margin parameter `C = 10`."
      ]
    },
    {
      "cell_type": "code",
      "execution_count": 19,
      "metadata": {
        "colab": {
          "base_uri": "https://localhost:8080/",
          "height": 93
        },
        "id": "7r-c_g2z_pPv",
        "outputId": "4c1df00a-2fc0-452a-e7c9-87aa237bbfdd"
      },
      "outputs": [
        {
          "output_type": "execute_result",
          "data": {
            "text/plain": [
              "SVC(C=10, gamma=0.05)"
            ],
            "text/html": [
              "<style>#sk-container-id-1 {color: black;background-color: white;}#sk-container-id-1 pre{padding: 0;}#sk-container-id-1 div.sk-toggleable {background-color: white;}#sk-container-id-1 label.sk-toggleable__label {cursor: pointer;display: block;width: 100%;margin-bottom: 0;padding: 0.3em;box-sizing: border-box;text-align: center;}#sk-container-id-1 label.sk-toggleable__label-arrow:before {content: \"▸\";float: left;margin-right: 0.25em;color: #696969;}#sk-container-id-1 label.sk-toggleable__label-arrow:hover:before {color: black;}#sk-container-id-1 div.sk-estimator:hover label.sk-toggleable__label-arrow:before {color: black;}#sk-container-id-1 div.sk-toggleable__content {max-height: 0;max-width: 0;overflow: hidden;text-align: left;background-color: #f0f8ff;}#sk-container-id-1 div.sk-toggleable__content pre {margin: 0.2em;color: black;border-radius: 0.25em;background-color: #f0f8ff;}#sk-container-id-1 input.sk-toggleable__control:checked~div.sk-toggleable__content {max-height: 200px;max-width: 100%;overflow: auto;}#sk-container-id-1 input.sk-toggleable__control:checked~label.sk-toggleable__label-arrow:before {content: \"▾\";}#sk-container-id-1 div.sk-estimator input.sk-toggleable__control:checked~label.sk-toggleable__label {background-color: #d4ebff;}#sk-container-id-1 div.sk-label input.sk-toggleable__control:checked~label.sk-toggleable__label {background-color: #d4ebff;}#sk-container-id-1 input.sk-hidden--visually {border: 0;clip: rect(1px 1px 1px 1px);clip: rect(1px, 1px, 1px, 1px);height: 1px;margin: -1px;overflow: hidden;padding: 0;position: absolute;width: 1px;}#sk-container-id-1 div.sk-estimator {font-family: monospace;background-color: #f0f8ff;border: 1px dotted black;border-radius: 0.25em;box-sizing: border-box;margin-bottom: 0.5em;}#sk-container-id-1 div.sk-estimator:hover {background-color: #d4ebff;}#sk-container-id-1 div.sk-parallel-item::after {content: \"\";width: 100%;border-bottom: 1px solid gray;flex-grow: 1;}#sk-container-id-1 div.sk-label:hover label.sk-toggleable__label {background-color: #d4ebff;}#sk-container-id-1 div.sk-serial::before {content: \"\";position: absolute;border-left: 1px solid gray;box-sizing: border-box;top: 0;bottom: 0;left: 50%;z-index: 0;}#sk-container-id-1 div.sk-serial {display: flex;flex-direction: column;align-items: center;background-color: white;padding-right: 0.2em;padding-left: 0.2em;position: relative;}#sk-container-id-1 div.sk-item {position: relative;z-index: 1;}#sk-container-id-1 div.sk-parallel {display: flex;align-items: stretch;justify-content: center;background-color: white;position: relative;}#sk-container-id-1 div.sk-item::before, #sk-container-id-1 div.sk-parallel-item::before {content: \"\";position: absolute;border-left: 1px solid gray;box-sizing: border-box;top: 0;bottom: 0;left: 50%;z-index: -1;}#sk-container-id-1 div.sk-parallel-item {display: flex;flex-direction: column;z-index: 1;position: relative;background-color: white;}#sk-container-id-1 div.sk-parallel-item:first-child::after {align-self: flex-end;width: 50%;}#sk-container-id-1 div.sk-parallel-item:last-child::after {align-self: flex-start;width: 50%;}#sk-container-id-1 div.sk-parallel-item:only-child::after {width: 0;}#sk-container-id-1 div.sk-dashed-wrapped {border: 1px dashed gray;margin: 0 0.4em 0.5em 0.4em;box-sizing: border-box;padding-bottom: 0.4em;background-color: white;}#sk-container-id-1 div.sk-label label {font-family: monospace;font-weight: bold;display: inline-block;line-height: 1.2em;}#sk-container-id-1 div.sk-label-container {text-align: center;}#sk-container-id-1 div.sk-container {/* jupyter's `normalize.less` sets `[hidden] { display: none; }` but bootstrap.min.css set `[hidden] { display: none !important; }` so we also need the `!important` here to be able to override the default hidden behavior on the sphinx rendered scikit-learn.org. See: https://github.com/scikit-learn/scikit-learn/issues/21755 */display: inline-block !important;position: relative;}#sk-container-id-1 div.sk-text-repr-fallback {display: none;}</style><div id=\"sk-container-id-1\" class=\"sk-top-container\"><div class=\"sk-text-repr-fallback\"><pre>SVC(C=10, gamma=0.05)</pre><b>In a Jupyter environment, please rerun this cell to show the HTML representation or trust the notebook. <br />On GitHub, the HTML representation is unable to render, please try loading this page with nbviewer.org.</b></div><div class=\"sk-container\" hidden><div class=\"sk-item\"><div class=\"sk-estimator sk-toggleable\"><input class=\"sk-toggleable__control sk-hidden--visually\" id=\"sk-estimator-id-1\" type=\"checkbox\" checked><label for=\"sk-estimator-id-1\" class=\"sk-toggleable__label sk-toggleable__label-arrow\">SVC</label><div class=\"sk-toggleable__content\"><pre>SVC(C=10, gamma=0.05)</pre></div></div></div></div></div>"
            ]
          },
          "metadata": {},
          "execution_count": 19
        }
      ],
      "source": [
        "from sklearn.svm import SVC\n",
        "\n",
        "svm_model = SVC(kernel='rbf', gamma=0.05, C=10)\n",
        "svm_model.fit(Xtr1, ytr8)"
      ]
    },
    {
      "cell_type": "markdown",
      "metadata": {
        "id": "8hcOkVNj_pPw"
      },
      "source": [
        "Calculate and print the accuracy of the SVM classifier. You should obtain a similar result as for logistic regression: something close to $97\\%$ accuracy."
      ]
    },
    {
      "cell_type": "code",
      "execution_count": 20,
      "metadata": {
        "colab": {
          "base_uri": "https://localhost:8080/"
        },
        "id": "o5nSyO3J_pPw",
        "outputId": "ad6ada24-b2a9-43b0-d708-5e424b14dbf9"
      },
      "outputs": [
        {
          "output_type": "stream",
          "name": "stdout",
          "text": [
            "SVM Accuracy = 98.020000%\n"
          ]
        }
      ],
      "source": [
        "ysvm = svm_model.predict(Xts1)\n",
        "acc = np.mean(ysvm == yts8)\n",
        "print('SVM Accuracy = {0:f}%'.format(acc * 100))"
      ]
    },
    {
      "cell_type": "markdown",
      "metadata": {
        "id": "WWp9NlMa_pPw"
      },
      "source": [
        "## The Showdown\n",
        "\n",
        "Both SVM classifiers and kernel logisitic regression require tuning parameters to obtain the best possible result. In our setting we will stick with an RBF kernel (although this could be tuned). So we only consider tuning the kernel width parameter `gamma`, as well as the regularization parameter `lamb` for logistic regression, and the margin parameter `C` for SVM. We will choose parameters using for-loops and train-test cross validation."
      ]
    },
    {
      "cell_type": "markdown",
      "metadata": {
        "id": "ia44LYbc_pPw"
      },
      "source": [
        "Train a logistic regression classifier with **all combinations** of the parameters included below in vectors `gamma` and `lamb`. For each setting of parameters, compute and print:\n",
        "* the test error obtained\n",
        "* the total runtime of classification in seconds (including training time and prediction time)\n",
        "\n",
        "For computing runtime you might want to use the `time()` function from the `time` library, which we already imported ealier."
      ]
    },
    {
      "cell_type": "code",
      "execution_count": 21,
      "metadata": {
        "colab": {
          "base_uri": "https://localhost:8080/"
        },
        "id": "0cHNr0Kw_pPw",
        "outputId": "650b6be1-b06e-4fa1-e5a3-f543ad4b26ef"
      },
      "outputs": [
        {
          "metadata": {
            "tags": null
          },
          "name": "stdout",
          "output_type": "stream",
          "text": [
            "Gamma = 0.1, Lambda = 0, Test Accuracy = 96.32%, Runtime = 38.3639 sec\n",
            "Gamma = 0.1, Lambda = 1e-06, Test Accuracy = 96.58%, Runtime = 96.7666 sec\n",
            "Gamma = 0.1, Lambda = 0.0001, Test Accuracy = 96.52%, Runtime = 129.7021 sec\n",
            "Gamma = 0.1, Lambda = 0.01, Test Accuracy = 96.28%, Runtime = 131.6690 sec\n",
            "Gamma = 0.05, Lambda = 0, Test Accuracy = 97.98%, Runtime = 64.0214 sec\n",
            "Gamma = 0.05, Lambda = 1e-06, Test Accuracy = 98.02%, Runtime = 291.3439 sec\n",
            "Gamma = 0.05, Lambda = 0.0001, Test Accuracy = 97.80%, Runtime = 611.8256 sec\n",
            "Gamma = 0.05, Lambda = 0.01, Test Accuracy = 97.42%, Runtime = 489.3060 sec\n"
          ]
        },
        {
          "metadata": {
            "tags": null
          },
          "name": "stderr",
          "output_type": "stream",
          "text": [
            "<ipython-input-15-7ab5a0460b08>:7: RuntimeWarning: overflow encountered in exp\n",
            "  h = 1 / (1 + np.exp(-z))\n",
            "<ipython-input-15-7ab5a0460b08>:8: RuntimeWarning: divide by zero encountered in log\n",
            "  loss = np.sum((1 - y) * z - np.log(h)) + lamb * alpha.T @ K @ alpha\n",
            "<ipython-input-15-7ab5a0460b08>:13: RuntimeWarning: overflow encountered in exp\n",
            "  h = 1 / (1 + np.exp(-z))\n"
          ]
        },
        {
          "metadata": {
            "tags": null
          },
          "name": "stdout",
          "output_type": "stream",
          "text": [
            "Gamma = 0.02, Lambda = 0, Test Accuracy = 98.14%, Runtime = 319.7423 sec\n",
            "Gamma = 0.02, Lambda = 1e-06, Test Accuracy = 98.44%, Runtime = 1206.0349 sec\n",
            "Gamma = 0.02, Lambda = 0.0001, Test Accuracy = 98.38%, Runtime = 1186.1330 sec\n",
            "Gamma = 0.02, Lambda = 0.01, Test Accuracy = 98.24%, Runtime = 1177.5964 sec\n"
          ]
        },
        {
          "metadata": {
            "tags": null
          },
          "name": "stderr",
          "output_type": "stream",
          "text": [
            "<ipython-input-15-7ab5a0460b08>:7: RuntimeWarning: overflow encountered in exp\n",
            "  h = 1 / (1 + np.exp(-z))\n",
            "<ipython-input-15-7ab5a0460b08>:8: RuntimeWarning: divide by zero encountered in log\n",
            "  loss = np.sum((1 - y) * z - np.log(h)) + lamb * alpha.T @ K @ alpha\n",
            "<ipython-input-15-7ab5a0460b08>:13: RuntimeWarning: overflow encountered in exp\n",
            "  h = 1 / (1 + np.exp(-z))\n"
          ]
        },
        {
          "output_type": "stream",
          "name": "stdout",
          "text": [
            "Gamma = 0.01, Lambda = 0, Test Accuracy = 98.06%, Runtime = 1073.7925 sec\n",
            "Gamma = 0.01, Lambda = 1e-06, Test Accuracy = 97.88%, Runtime = 1202.9670 sec\n",
            "Gamma = 0.01, Lambda = 0.0001, Test Accuracy = 98.10%, Runtime = 1182.4242 sec\n",
            "Gamma = 0.01, Lambda = 0.01, Test Accuracy = 98.28%, Runtime = 1180.6994 sec\n",
            "Gamma = 0.005, Lambda = 0, Test Accuracy = 97.66%, Runtime = 1182.6439 sec\n",
            "Gamma = 0.005, Lambda = 1e-06, Test Accuracy = 97.54%, Runtime = 1237.8004 sec\n",
            "Gamma = 0.005, Lambda = 0.0001, Test Accuracy = 97.76%, Runtime = 920.9669 sec\n",
            "Gamma = 0.005, Lambda = 0.01, Test Accuracy = 97.36%, Runtime = 762.3987 sec\n"
          ]
        }
      ],
      "source": [
        "gamma = [.1, .05,.02,.01,.005]\n",
        "lamb = [0,1e-6,1e-4,1e-2]\n",
        "for g in gamma:\n",
        "    for l in lamb:\n",
        "        start_time = time.time()\n",
        "\n",
        "        # Compute the kernel matrix\n",
        "        K = pairwise_kernels(Xtr1, metric='rbf', gamma=g)\n",
        "\n",
        "        # Train the logistic regression classifier\n",
        "        alpha = log_fit(K, ytr8, l)\n",
        "\n",
        "        # Compute the kernel matrix for the test dataset\n",
        "        Ktest = pairwise_kernels(Xts1, Xtr1, metric='rbf', gamma=g)\n",
        "\n",
        "        yhat = np.sign(Ktest.dot(alpha))\n",
        "        yhat_binary = (yhat > 0).astype(int)\n",
        "        acc = np.mean(yhat_binary == yts8)\n",
        "\n",
        "        end_time = time.time()\n",
        "        runtime = end_time - start_time\n",
        "\n",
        "        print(\"Gamma = {}, Lambda = {}, Test Accuracy = {:.2f}%, Runtime = {:.4f} sec\".format(g,l,acc*100,runtime))"
      ]
    },
    {
      "cell_type": "markdown",
      "metadata": {
        "id": "NkcP20AM_pPw"
      },
      "source": [
        "TODO: What was the best test error achieved, and what setting of parameters achieved this error? Was the kernel logistic regression classifier more sensitive to changes in `gamma` or `lamb`? Discuss in 1-3 short sentences below."
      ]
    },
    {
      "cell_type": "markdown",
      "metadata": {
        "id": "c5fNbAMC6vKa"
      },
      "source": [
        "The best test error is that with an accuracy of 98.44 %. The parameters that achieved this were Gamma = 0.02 and Lambda = 1e-06. The kernel logistic regression classifier is more sensitive to changes in gamma.\n",
        "\n",
        "Gamma controls the width of the kernel, affecting the smoothness and flexibility of the decision boundary. A higher gamma has a complex decision boundary, potentially leading to overfitting, a lower gamma may underfit the data. Lambda controls regularization strength, balancing the fit to the training data and the complexity of the model. Low lambda leads to overfitting, while high lambda may leads underfitting by penalizing the model complexity."
      ]
    },
    {
      "cell_type": "markdown",
      "metadata": {
        "id": "LHxF0MXm_pPw"
      },
      "source": [
        "Now let's do the same thing for the kernel Support Vector Classifier. Train an SVM classifier with **all combinations** of the parameters included below in vectors `gamma` and `C`. For each setting of parameters, compute:\n",
        "* the test error obtained\n",
        "* the total runtime of classification in seconds (including training time and prediction time)"
      ]
    },
    {
      "cell_type": "code",
      "execution_count": 22,
      "metadata": {
        "colab": {
          "base_uri": "https://localhost:8080/"
        },
        "id": "FkPkZGIY_pPx",
        "outputId": "f7ed3e4f-9c38-4d1d-9186-456b6810dfa3"
      },
      "outputs": [
        {
          "output_type": "stream",
          "name": "stdout",
          "text": [
            "Gamma = 0.1, C = 0.01, Test Accuracy = 90.22%, Runtime = 83.6736 sec\n",
            "Gamma = 0.1, C = 0.1, Test Accuracy = 90.22%, Runtime = 123.7456 sec\n",
            "Gamma = 0.1, C = 1, Test Accuracy = 92.82%, Runtime = 147.6938 sec\n",
            "Gamma = 0.1, C = 10, Test Accuracy = 93.42%, Runtime = 162.7012 sec\n",
            "Gamma = 0.05, C = 0.01, Test Accuracy = 90.22%, Runtime = 28.7206 sec\n",
            "Gamma = 0.05, C = 0.1, Test Accuracy = 92.28%, Runtime = 31.0640 sec\n",
            "Gamma = 0.05, C = 1, Test Accuracy = 97.74%, Runtime = 38.1920 sec\n",
            "Gamma = 0.05, C = 10, Test Accuracy = 98.02%, Runtime = 39.1549 sec\n",
            "Gamma = 0.02, C = 0.01, Test Accuracy = 90.22%, Runtime = 20.8629 sec\n",
            "Gamma = 0.02, C = 0.1, Test Accuracy = 95.12%, Runtime = 17.3904 sec\n",
            "Gamma = 0.02, C = 1, Test Accuracy = 98.20%, Runtime = 14.2327 sec\n",
            "Gamma = 0.02, C = 10, Test Accuracy = 98.58%, Runtime = 14.3850 sec\n",
            "Gamma = 0.01, C = 0.01, Test Accuracy = 90.22%, Runtime = 19.3823 sec\n",
            "Gamma = 0.01, C = 0.1, Test Accuracy = 94.50%, Runtime = 17.7723 sec\n",
            "Gamma = 0.01, C = 1, Test Accuracy = 97.60%, Runtime = 11.8599 sec\n",
            "Gamma = 0.01, C = 10, Test Accuracy = 98.70%, Runtime = 11.6384 sec\n",
            "Gamma = 0.005, C = 0.01, Test Accuracy = 90.22%, Runtime = 19.6337 sec\n",
            "Gamma = 0.005, C = 0.1, Test Accuracy = 93.20%, Runtime = 18.8321 sec\n",
            "Gamma = 0.005, C = 1, Test Accuracy = 96.72%, Runtime = 13.1113 sec\n",
            "Gamma = 0.005, C = 10, Test Accuracy = 98.38%, Runtime = 10.3685 sec\n"
          ]
        }
      ],
      "source": [
        "gamma = [.1, .05,.02,.01,.005]\n",
        "C = [.01,.1,1,10]\n",
        "for g in gamma:\n",
        "    for c in C:\n",
        "        start_time = time.time()\n",
        "\n",
        "        # Create and train the SVM classifier\n",
        "        svm_model = SVC(kernel='rbf', gamma=g, C=c)\n",
        "        svm_model.fit(Xtr1, ytr8)\n",
        "\n",
        "        ysvm = svm_model.predict(Xts1)\n",
        "        acc = np.mean(ysvm == yts8)\n",
        "\n",
        "        end_time = time.time()\n",
        "        runtime = end_time - start_time\n",
        "\n",
        "        print(\"Gamma = {}, C = {}, Test Accuracy = {:.2f}%, Runtime = {:.4f} sec\".format(g,c,acc*100,runtime))"
      ]
    },
    {
      "cell_type": "markdown",
      "metadata": {
        "id": "UPI-k50w_pPx"
      },
      "source": [
        "TODO: What was the best test error achieved, and what setting of parameters achieved this error? Which performed better in terms of accuracy, the SVM or logisitic regression classifier? How about in terms of runtime?"
      ]
    },
    {
      "cell_type": "markdown",
      "metadata": {
        "id": "xCCx9HWf7LJi"
      },
      "source": [
        "The best test error is that with 98.7 % accuracy. The parameters that achieved this were Gamma = 0.01 and C = 10. SVM outperformed logistic regression in terms of accuracy by 0.12. In terms of runtime SVM was much faster than logistic regression."
      ]
    },
    {
      "cell_type": "markdown",
      "metadata": {
        "id": "wec-DXhg_pPx"
      },
      "source": [
        "**NOTE:** For `sklearns`'s built in classifiers, including svm.SVC, there is a function called `GridSearchCV` which can automatically perform hyperparamater tuning for you. The main advantage of the method (as opposed to writing for-loops) is that it supports parallelization, so it can fit with different parameters at the same time. The function also supports automatic $k$-fold cross-validation (instead of simple train/test split).\n",
        "\n",
        "You might be interested in using this function in the future. If so, please check out the tutorial in the following lab from previous year: https://github.com/sdrangan/introml/blob/master/unit08_svm/lab_emnist_partial.ipynb."
      ]
    }
  ],
  "metadata": {
    "anaconda-cloud": {},
    "colab": {
      "provenance": []
    },
    "kernelspec": {
      "display_name": "Python 3",
      "language": "python",
      "name": "python3"
    },
    "language_info": {
      "codemirror_mode": {
        "name": "ipython",
        "version": 3
      },
      "file_extension": ".py",
      "mimetype": "text/x-python",
      "name": "python",
      "nbconvert_exporter": "python",
      "pygments_lexer": "ipython3",
      "version": "3.7.4"
    }
  },
  "nbformat": 4,
  "nbformat_minor": 0
}